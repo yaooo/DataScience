{
 "cells": [
  {
   "cell_type": "markdown",
   "metadata": {},
   "source": [
    "<div class=\"alert alert-block alert-info\">\n",
    "<h3>Student Information</h3> Please provide information about yourself.<br>\n",
    "<b>Name</b>:<br>\n",
    "<b>NetID</b>:<br>\n",
    "<b>Recitation (01/02)</b>:<br>\n",
    "<b>Notes to Grader</b> (optional):<br>\n",
    "<br><br>\n",
    "<b>IMPORTANT</b>\n",
    "Your work will not be graded withour your initials below<br>\n",
    "I certify that this lab represents my own work and I have read the RU academic intergrity policies at<br>\n",
    "<a href=\"https://www.cs.rutgers.edu/academic-integrity/introduction\">https://www.cs.rutgers.edu/academic-integrity/introduction </a><br>\n",
    "<b>Initials</b>:     \n",
    "\n",
    "\n",
    "<h3>Grader Notes</h3>\n",
    "<b>Your Grade<b>:<br>\n",
    "<b>Grader Initials</b>:<br>\n",
    "<b>Grader Comments</b> (optional):<br>\n",
    "</div>"
   ]
  },
  {
   "cell_type": "markdown",
   "metadata": {},
   "source": [
    "# Lab 6: Univariate Linear Regression\n",
    "\n",
    "### Due Date: Tuesday April 4, 2019 on or before 11:59 PM\n",
    "\n",
    "In this lab we will work through the process of:\n",
    "1. implementing a univariate linear regression model\n",
    "2. defining, implementing and testing multiple loss functions \n",
    "3. minimizing loss functions using gradient descent\n",
    "4. comparing with python library functions\n",
    "5. Using the model to predict on new data\n"
   ]
  },
  {
   "cell_type": "markdown",
   "metadata": {},
   "source": [
    "## Initialize"
   ]
  },
  {
   "cell_type": "code",
   "execution_count": 1,
   "metadata": {},
   "outputs": [],
   "source": [
    "import pandas as pd\n",
    "import numpy as np\n",
    "import seaborn as sns\n",
    "import matplotlib.pyplot as plt\n",
    "np.random.seed(42)\n",
    "plt.style.use('fivethirtyeight')\n",
    "sns.set()\n",
    "sns.set_context(\"talk\")\n",
    "%matplotlib inline"
   ]
  },
  {
   "cell_type": "markdown",
   "metadata": {},
   "source": [
    "# Univariate Linear Regression\n",
    "In the first task of the lab, we will model linear regression based on a data set that contains grades from CS 205 course in fall 2018. The dataset (with no ID's) contain midterm and final exam grades of Rutgers students (including other assignment grades). \n",
    "\n",
    "# Task 1 - Initialization\n",
    "Read the file into a dataframe and keep only the midtermRaw and FinaRaw columns. We will be doing univariate regression on x=midterm, y=finalExam\n",
    "The goal is to find a model that will allow us to predict the final exam score given the midterm score."
   ]
  },
  {
   "cell_type": "markdown",
   "metadata": {},
   "source": [
    "### Activity 1.1  Read Data"
   ]
  },
  {
   "cell_type": "code",
   "execution_count": 2,
   "metadata": {},
   "outputs": [
    {
     "data": {
      "text/html": [
       "<div>\n",
       "<style scoped>\n",
       "    .dataframe tbody tr th:only-of-type {\n",
       "        vertical-align: middle;\n",
       "    }\n",
       "\n",
       "    .dataframe tbody tr th {\n",
       "        vertical-align: top;\n",
       "    }\n",
       "\n",
       "    .dataframe thead th {\n",
       "        text-align: right;\n",
       "    }\n",
       "</style>\n",
       "<table border=\"1\" class=\"dataframe\">\n",
       "  <thead>\n",
       "    <tr style=\"text-align: right;\">\n",
       "      <th></th>\n",
       "      <th>midtermRaw</th>\n",
       "      <th>finalRaw</th>\n",
       "    </tr>\n",
       "  </thead>\n",
       "  <tbody>\n",
       "    <tr>\n",
       "      <th>3</th>\n",
       "      <td>45.5</td>\n",
       "      <td>62.0</td>\n",
       "    </tr>\n",
       "    <tr>\n",
       "      <th>4</th>\n",
       "      <td>58.0</td>\n",
       "      <td>60.5</td>\n",
       "    </tr>\n",
       "    <tr>\n",
       "      <th>5</th>\n",
       "      <td>68.0</td>\n",
       "      <td>32.0</td>\n",
       "    </tr>\n",
       "    <tr>\n",
       "      <th>6</th>\n",
       "      <td>64.5</td>\n",
       "      <td>50.5</td>\n",
       "    </tr>\n",
       "    <tr>\n",
       "      <th>7</th>\n",
       "      <td>74.0</td>\n",
       "      <td>51.0</td>\n",
       "    </tr>\n",
       "  </tbody>\n",
       "</table>\n",
       "</div>"
      ],
      "text/plain": [
       "   midtermRaw  finalRaw\n",
       "3        45.5      62.0\n",
       "4        58.0      60.5\n",
       "5        68.0      32.0\n",
       "6        64.5      50.5\n",
       "7        74.0      51.0"
      ]
     },
     "execution_count": 2,
     "metadata": {},
     "output_type": "execute_result"
    }
   ],
   "source": [
    "import pandas as pd\n",
    "df = pd.read_csv(\"data/CS205_grades_12_19_18_Final.csv\")\n",
    "df_cleaned = df[['midtermRaw','finalRaw']]\n",
    "# drop all undefined rows \n",
    "df_cleaned = df_cleaned.dropna() \n",
    "df_cleaned.head()"
   ]
  },
  {
   "cell_type": "markdown",
   "metadata": {},
   "source": [
    "### Activity 1.2 Normalize Data\n",
    "In this task, you need to normalize data using MinMaxScaler from sklearn.preprocessing. Normalize midterm and final scores to be between 0 and 1. X_scaled_values and Y_scaled_values are the normalized midterm and final exam scores."
   ]
  },
  {
   "cell_type": "code",
   "execution_count": 3,
   "metadata": {},
   "outputs": [],
   "source": [
    "# BEGIN SOLUTION\n",
    "x = df_cleaned['midtermRaw']\n",
    "x = x - min(x)\n",
    "x = x / max(x)\n",
    "x = x.values\n",
    "X_scaled_values = x\n",
    "\n",
    "y = df_cleaned['finalRaw']\n",
    "y = y - min(y)\n",
    "y = y / max(y)\n",
    "y = y.values\n",
    "Y_scaled_values = y"
   ]
  },
  {
   "cell_type": "code",
   "execution_count": 4,
   "metadata": {},
   "outputs": [
    {
     "data": {
      "text/plain": [
       "array([0.37857143, 0.55714286, 0.7       , 0.65      , 0.78571429,\n",
       "       0.47857143, 0.32142857, 0.80714286, 0.58571429, 0.06428571,\n",
       "       0.53571429, 0.46428571, 0.42142857, 0.83571429, 0.35      ,\n",
       "       0.        , 0.65      , 0.48571429, 0.55      , 0.49285714,\n",
       "       1.        , 0.6       , 0.31428571, 0.61428571, 0.55714286,\n",
       "       0.48571429, 0.04285714, 0.5       , 0.23571429, 0.73571429,\n",
       "       0.59285714, 0.48571429, 0.15714286, 0.83571429, 0.14285714,\n",
       "       0.35      , 0.41428571, 0.62142857, 1.        , 0.70714286,\n",
       "       0.56428571, 0.9       , 0.73571429, 0.24285714, 0.41428571,\n",
       "       0.65      , 0.52142857, 0.65714286, 0.38571429, 0.4       ,\n",
       "       0.55      , 0.52857143, 0.46428571, 0.81428571, 0.6       ,\n",
       "       0.54285714, 0.1       , 0.50714286, 0.2       , 0.63571429,\n",
       "       0.25714286, 0.94285714, 0.36428571, 0.53571429, 0.8       ,\n",
       "       0.34285714, 0.65      , 0.67142857, 0.60714286, 0.31428571,\n",
       "       0.72142857, 0.55714286, 0.78571429, 0.31428571, 0.95714286,\n",
       "       0.17857143, 0.68571429, 0.44285714, 0.69285714, 0.17857143,\n",
       "       0.47142857, 0.52857143, 0.27142857, 0.45      , 0.52857143,\n",
       "       0.48571429, 0.74285714, 0.25714286, 0.85714286, 0.29285714,\n",
       "       0.58571429, 0.70714286, 0.65714286, 0.27857143, 0.78571429,\n",
       "       0.25      , 0.3       , 0.58571429, 0.97142857, 0.02857143,\n",
       "       0.95      , 0.44285714, 0.34285714, 0.48571429, 0.40714286,\n",
       "       0.7       , 0.19285714, 0.37857143, 0.82142857, 0.87142857,\n",
       "       0.47857143, 0.04285714, 0.93571429, 0.47857143, 0.74285714,\n",
       "       0.63571429, 0.35714286, 0.82857143, 0.51428571, 0.22142857,\n",
       "       0.79285714, 0.92142857, 0.6       ])"
      ]
     },
     "execution_count": 4,
     "metadata": {},
     "output_type": "execute_result"
    }
   ],
   "source": [
    "x"
   ]
  },
  {
   "cell_type": "markdown",
   "metadata": {},
   "source": [
    "### Activity 1.3 Plot the data to see if a linear regression line is a good fit\n",
    "It is helpful to understand if the data lends to a linear regression model. In this activity, we will plot the points to see if a line fit to data is reasonable."
   ]
  },
  {
   "cell_type": "code",
   "execution_count": 5,
   "metadata": {},
   "outputs": [
    {
     "data": {
      "text/plain": [
       "<matplotlib.collections.PathCollection at 0x7ff3b886edd8>"
      ]
     },
     "execution_count": 5,
     "metadata": {},
     "output_type": "execute_result"
    },
    {
     "data": {
      "image/png": "[encoded data removed]",
      "text/plain": [
       "<Figure size 432x288 with 1 Axes>"
      ]
     },
     "metadata": {
      "needs_background": "light"
     },
     "output_type": "display_data"
    }
   ],
   "source": [
    "import numpy as np\n",
    "import matplotlib.pyplot as plt\n",
    "\n",
    "### BEGIN SOLUTION\n",
    "plt.figure()\n",
    "plt.scatter(x,y)\n",
    "### END SOLUTION"
   ]
  },
  {
   "cell_type": "markdown",
   "metadata": {},
   "source": [
    "## Question 1.4\n",
    "### BEGIN ANSWER\n",
    "question: Based on what you see in the plot, do you think it is fine to use linear regression? Why?\n",
    "\n",
    "Yes, because we can see a linear trend from the plot roughly.\n",
    "\n",
    "\n",
    "### END ANSWER"
   ]
  },
  {
   "cell_type": "markdown",
   "metadata": {},
   "source": [
    "# Task 2 Manual Exploration of Linear Regression Line\n",
    "In this task we will manually explore the linear regression line. This will give us a good intution about the process.\n",
    "The goal now is to fit a line \n",
    "$$\n",
    "h(\\theta) = \\theta_0 + \\theta_1*x \n",
    "$$\n",
    "to all data points (x,y), such that the error\n",
    "$$\n",
    "E(\\theta) = \\sum(h(\\theta)-y)^2 $$ is minimized. In this task we will manually change the values of theta0 and theta1 such that we obtain the smallest possible error. \n"
   ]
  },
  {
   "cell_type": "code",
   "execution_count": 6,
   "metadata": {},
   "outputs": [],
   "source": [
    "# define the function h(theta)\n",
    "def h(theta0, theta1, x):\n",
    "    \"\"\"\n",
    "    Return the model theta0 + theta1*x\n",
    "    \n",
    "    \"\"\"\n",
    "    return theta0 + theta1*x"
   ]
  },
  {
   "cell_type": "markdown",
   "metadata": {},
   "source": [
    "### Activity 2.1 - Define the square loss (L2) function\n",
    "Define the function, sqerror that computes the error based on the arguments provided. The function h(theta) is as defined above. Assume that x and y are the observed vectors. We use the average square loss or L2 loss in this case. Note that we assume global x and y vectors and do not pass them to the sqerror function and other functions that follow. This is a bad practice, but for the sake of simplicity we will do that."
   ]
  },
  {
   "cell_type": "code",
   "execution_count": 7,
   "metadata": {},
   "outputs": [
    {
     "data": {
      "text/plain": [
       "0.02348942348323907"
      ]
     },
     "execution_count": 7,
     "metadata": {},
     "output_type": "execute_result"
    }
   ],
   "source": [
    "import numpy as np\n",
    "# print(x)\n",
    "## BEGIN SOLUTION\n",
    "def sqerror(theta0, theta1):\n",
    "    \"\"\"\n",
    "    Input: parameters theta0 and theta1 of the model \n",
    "    Input: x, y vectors\n",
    "    Returns: L2 square error sum\n",
    "    Assumptions: none\n",
    "    \"\"\"\n",
    "    x1 = x*theta1+theta0\n",
    "    diff = x1-y\n",
    "    return sum(diff**2)/len(y)\n",
    "  \n",
    "## END SOLUTION\n",
    "\n",
    "## testing\n",
    "sqerror(0.29,0.52)"
   ]
  },
  {
   "cell_type": "markdown",
   "metadata": {},
   "source": [
    "### Activity 2.2 - Define the L1 Absolute error function\n",
    "Define the function, abserror that computes the avarega absolute error based on the arguments provided. The function h(theta) is as defined above. Assume that x and y are the observed vectors. We use the average abssolute error in this case."
   ]
  },
  {
   "cell_type": "code",
   "execution_count": 8,
   "metadata": {},
   "outputs": [
    {
     "data": {
      "text/plain": [
       "0.12588780834503438"
      ]
     },
     "execution_count": 8,
     "metadata": {},
     "output_type": "execute_result"
    }
   ],
   "source": [
    "import numpy as np\n",
    "import math\n",
    "\n",
    "## BEGIN SOLUTION\n",
    "def abserror(theta0, theta1):\n",
    "    \"\"\"\n",
    "    Input: parameters theta0 and theta1 of the model \n",
    "    Input: x, y vectors\n",
    "    Returns: L1 error sum\n",
    "    Assumptions: none\n",
    "    \"\"\"\n",
    "    x1 = x*theta1+theta0\n",
    "    diff = sum(abs(x1-y))\n",
    "\n",
    "    return diff/len(y)\n",
    "   \n",
    "\n",
    "## END SOLUTION\n",
    "\n",
    "## testing\n",
    "abserror(0.29,0.52)"
   ]
  },
  {
   "attachments": {
    "image.png": {
     "image/png": "[encoded data removed]"
    }
   },
   "cell_type": "markdown",
   "metadata": {},
   "source": [
    "### Activity 2.3 - Define the Pseudo Huber loss function\n",
    "Define the function, phuberror that computes the pseudo huber error based on the two arguments provided. The function h(theta) is as defined above. Assume that x and y are the observed vectors. The equation for this function is given by \n",
    "![image.png](attachment:image.png)\n",
    "The following function finds the average huber error."
   ]
  },
  {
   "cell_type": "code",
   "execution_count": 9,
   "metadata": {},
   "outputs": [
    {
     "data": {
      "text/plain": [
       "0.006994227909507363"
      ]
     },
     "execution_count": 9,
     "metadata": {},
     "output_type": "execute_result"
    }
   ],
   "source": [
    "import numpy as np\n",
    "import math\n",
    "\n",
    "## BEGIN SOLUTION\n",
    "def huberror(theta0, theta1, delta):\n",
    "    \"\"\"\n",
    "    Input: parameters theta0 and theta1 of the model \n",
    "    Input: x, y vectors\n",
    "    Returns: psuedo huber error\n",
    "    Assumptions: none\n",
    "    \"\"\"\n",
    "    x1 = x*theta1+theta0\n",
    "    a = y - x1\n",
    "    \n",
    "    return sum((np.sqrt(1+(a/delta)**2) - 1) * delta * delta)/len(y)\n",
    "\n",
    "## END SOLUTION\n",
    "\n",
    "## testing\n",
    "huberror(0.29,0.52,0.1)"
   ]
  },
  {
   "cell_type": "markdown",
   "metadata": {},
   "source": [
    "### Activity 2.4 Interactive Exploration.\n",
    "Let us initialize the interat widget (as in Lab5) to create sliders that allows us to change the values of theta0 and theta1 and see how things change. Complete the function f below. The function is expected to get two values theta0 and theta1 and plot both the observed points (x,y) and the regression line on the same plot. It also needs to compute the error and display and error."
   ]
  },
  {
   "cell_type": "code",
   "execution_count": 10,
   "metadata": {},
   "outputs": [
    {
     "name": "stdout",
     "output_type": "stream",
     "text": [
      "Enabling notebook extension jupyter-js-widgets/extension...\r\n",
      "      - Validating: \u001b[32mOK\u001b[0m\r\n"
     ]
    }
   ],
   "source": [
    "from ipywidgets import interact\n",
    "!jupyter nbextension enable --py widgetsnbextension"
   ]
  },
  {
   "cell_type": "code",
   "execution_count": 11,
   "metadata": {
    "scrolled": true
   },
   "outputs": [
    {
     "data": {
      "application/vnd.jupyter.widget-view+json": {
       "model_id": "3c3b77143a6f45cfa07cc9abfef36ce1",
       "version_major": 2,
       "version_minor": 0
      },
      "text/plain": [
       "interactive(children=(FloatSlider(value=0.0, description='theta0', max=1.0), FloatSlider(value=0.0, descriptio…"
      ]
     },
     "metadata": {},
     "output_type": "display_data"
    }
   ],
   "source": [
    "# interactive panel\n",
    "import pylab\n",
    "import numpy\n",
    "\n",
    "def f(theta0, theta1):\n",
    "    \"\"\"\n",
    "    Plot the line and points in an interactive panel\n",
    "    \"\"\"\n",
    "    # plot the line for theta0 and theta1\n",
    "    y = h(theta0, theta1, x) \n",
    "    # compose plot\n",
    "    pylab.plot(x,y) \n",
    "    \n",
    "    # compute the L2 error for theta0 and theta1 for 5 decimal places\n",
    "    sqerr = round(sqerror(theta0, theta1),6)\n",
    "    # compute the absolute or L1 error for theta0 and theta1\n",
    "    abserr = round(abserror(theta0, theta1),4)\n",
    "    # compute the phub error for theta0 and theta1\n",
    "    huberr = round(huberror(theta0, theta1,0.01),4)\n",
    "    pylab.title('L1=' + str(abserr) + '  L2=' + str(sqerr) + '  hub=' + str(huberr))\n",
    "    \n",
    "    # plot the points\n",
    "    x1 = X_scaled_values   \n",
    "    y1 = Y_scaled_values\n",
    "    pylab.scatter(x1, y1, alpha=0.5)\n",
    "    pylab.show() # show the plot  \n",
    "\n",
    "interact(f, theta1=(0,1,0.1), theta0=(0,1,0.1));\n"
   ]
  },
  {
   "cell_type": "markdown",
   "metadata": {},
   "source": [
    "### Activity 2.5 Record the best values for each error function\n",
    "Write the \"best\" values you found for theta0 (y-intercept) and theta1 (slope) and the error. \n",
    "This error is the minimum you have observed based on the manual exploration using the widget \n",
    "above."
   ]
  },
  {
   "cell_type": "code",
   "execution_count": 12,
   "metadata": {},
   "outputs": [],
   "source": [
    "\n",
    "\n",
    "# BEST VALUES FOR AVE SQUARE ERROR\n",
    "theta0 = ...\n",
    "theta1 =...\n",
    "error = ...\n",
    "# BEST VALUES FOR AVE ABS ERROR\n",
    "theta0 =...\n",
    "theta1 =...\n",
    "error = ...\n",
    "\n",
    "# BEST VALUES FOR AVE HUBER ERROR\n",
    "theta0 =...\n",
    "theta1 =...\n",
    "error = ..."
   ]
  },
  {
   "cell_type": "markdown",
   "metadata": {},
   "source": [
    "# Task 3 - Gradient Descent\n",
    "In this task we need to use the Gradient descent methods to find a \"better\" values for theta0 and theta1 that minimizes the error. Gradient descent is an iterative algorithm. It computes values of theta0 and theta1 in the direction of reaching the minimum point in the graph. The iterative formulas for theta0 and theta1 are given by:\n",
    "$$\n",
    "\\theta_0 = \\theta_0 - \\alpha*(\\sum(\\theta_1*x_j + \\theta_0)-y_j)\n",
    "$$\n",
    "$$\n",
    "\\theta_1 = \\theta_1 - \\alpha*(\\sum(\\theta_1*x_j + \\theta_0 - y_j)*x_j\n",
    "$$\n",
    "\n",
    "The alpha is called the \"learning rate\". It is important to pick a good value for alpha so that convergence is not too slow (small alpha) or at the risk of over shooting the minimum point (large alpha). You may have to experiemnt with few alphas to find something that works."
   ]
  },
  {
   "cell_type": "markdown",
   "metadata": {},
   "source": [
    "### Activity 3.1 Compute using Gradient Descent algorithm (L2 loss)"
   ]
  },
  {
   "cell_type": "code",
   "execution_count": 25,
   "metadata": {},
   "outputs": [
    {
     "name": "stdout",
     "output_type": "stream",
     "text": [
      "174\n"
     ]
    }
   ],
   "source": [
    "# given the observed data (obsX,obsY), learning rate (alpha), and desired error threshold, \n",
    "# the function returns theta0 and theta1\n",
    "# that reach the error threshold.\n",
    "# The convergence is reached when the newError - oldError is less than the threshold.\n",
    "\n",
    "# BEGIN SOLUTION  \n",
    "def gd2(obsX, obsY, alpha, threshold):\n",
    "    \"\"\"\n",
    "    Input : observed vectors X, Y, alpha and threshold\n",
    "    Return theta0, theta1 from Gradient Descent L2 loss algorithm\n",
    "    Return: Iterations and L2 Error\n",
    "    \"\"\"\n",
    "    \n",
    "    count = 0\n",
    "    theta0 = 0\n",
    "    theta1 = 0\n",
    "    m = len(obsY)\n",
    "    \n",
    "    # first iteration\n",
    "    x1 = obsX * theta1 + theta0\n",
    "    diff = x1 - obsY\n",
    "    theta0 = theta0 - alpha * sum(diff)/m\n",
    "    theta1 = theta1 - alpha * sum(diff * obsX) / m\n",
    "    count += 1\n",
    "    old_error = sum((obsX * theta1 + theta0 - obsY) ** 2) / m\n",
    "    \n",
    "    new_error = old_error + threshold + 1\n",
    "    \n",
    "    while(abs(new_error - old_error) >= threshold):\n",
    "        x1 = obsX * theta1 + theta0\n",
    "        diff = x1 - obsY\n",
    "        theta0 = theta0 - alpha * sum(diff)/m\n",
    "        theta1 = theta1 - alpha * sum(diff * obsX) / m\n",
    "        count += 1\n",
    "        old_error = new_error\n",
    "        new_error = sum((obsX * theta1 + theta0 - obsY) ** 2) / m\n",
    "#         print(error)\n",
    "#         print(theta0, theta1)\n",
    "    return theta0, theta1, new_error, count\n",
    "# END SOLUTION\n",
    "\n",
    "[theta0,theta1,newError,iterations] = gd2(x,y,0.01,0.0001)\n",
    "print(iterations)"
   ]
  },
  {
   "cell_type": "code",
   "execution_count": 26,
   "metadata": {},
   "outputs": [
    {
     "data": {
      "text/plain": [
       "(0.39119675341863935, 0.24180907060023124)"
      ]
     },
     "execution_count": 26,
     "metadata": {},
     "output_type": "execute_result"
    }
   ],
   "source": [
    "# observe theta0 and theta1\n",
    "theta0, theta1"
   ]
  },
  {
   "cell_type": "markdown",
   "metadata": {},
   "source": [
    "### Activity 3.2 Compute Gradient Descent (Huber)\n",
    "First Compute a formula for huber gradient descent using derivative methods discussed in class. Similar to L2 descent, use the new formulas (obtained from huber derivatives) to compute values of theta1, theta1, error"
   ]
  },
  {
   "cell_type": "code",
   "execution_count": 28,
   "metadata": {},
   "outputs": [
    {
     "name": "stdout",
     "output_type": "stream",
     "text": [
      "210\n"
     ]
    }
   ],
   "source": [
    "# given the observed data (obsX,obsY), learning rate (alpha), and desired error, \n",
    "# the function returns theta0, theta1, error and iterations\n",
    "# that reaches a minimum error threshold\n",
    "\n",
    "## BEGIN SOLUTION\n",
    "\n",
    "def gdh(obsX, obsY, alpha, threshold, delta):\n",
    "    \"\"\"\n",
    "    Input : observed vectors X, Y, alpha and threshold\n",
    "    Return theta0, theta1 from Gradient Descent huber loss algorithm\n",
    "    Return: Iterations and huber Error\n",
    "    \"\"\"\n",
    "    theta1 = 0\n",
    "    theta0 = 0\n",
    "    \n",
    "    x1 = obsX*theta1+theta0\n",
    "    a = obsY - x1\n",
    "    m = len(obsY)\n",
    "    count = 1\n",
    "    old_error = sum((np.sqrt(1+(a/delta)**2) - 1) * delta * delta)/m\n",
    "    new_error = old_error + threshold + 1\n",
    "    \n",
    "    while(abs(new_error - old_error) >= threshold):\n",
    "        x1 = obsX * theta1 + theta0\n",
    "        diff = x1 - obsY\n",
    "        theta0 = theta0 - alpha * sum(diff)/m\n",
    "        theta1 = theta1 - alpha * sum(diff * obsX) / m\n",
    "        count += 1\n",
    "        old_error = new_error\n",
    "        new_error = sum((np.sqrt(1+(diff/delta)**2) - 1) * delta * delta)/m\n",
    "#         print(error)\n",
    "#         print(theta0, theta1)\n",
    "    return theta0, theta1, error, count\n",
    "    \n",
    " \n",
    "## END SOLUTION\n",
    "# testing    \n",
    "[theta0,theta1,newError,iterations] = gdh(x,y,0.01,0.000001,0.01)\n",
    "print(iterations)"
   ]
  },
  {
   "cell_type": "markdown",
   "metadata": {},
   "source": [
    "### Activity 3.2\n",
    "1. Write the values of theta0, theta1, alpha, error that provided the minimum value through gradient descent\n",
    "2. Experiment the new values of theta0, theta1 to see if the interactive widget shows similar things.\n",
    "\n",
    "##### BEGIN ANSWER\n",
    "\n",
    "\n",
    "\n",
    "##### END ANSWER"
   ]
  },
  {
   "cell_type": "markdown",
   "metadata": {},
   "source": [
    "### Activity 3.3 Compare with Library Estimators\n",
    "Now use the sklearn LinearRegression module to automate this process. What coefficients do you get? Are they close to what you received from gradient descent? Find the error from sklearn package. Is that error smaller or bigger than the squared error you received?"
   ]
  },
  {
   "cell_type": "code",
   "execution_count": 29,
   "metadata": {},
   "outputs": [
    {
     "data": {
      "text/plain": [
       "array([0.37857143, 0.55714286, 0.7       , 0.65      , 0.78571429,\n",
       "       0.47857143, 0.32142857, 0.80714286, 0.58571429, 0.06428571,\n",
       "       0.53571429, 0.46428571, 0.42142857, 0.83571429, 0.35      ,\n",
       "       0.        , 0.65      , 0.48571429, 0.55      , 0.49285714,\n",
       "       1.        , 0.6       , 0.31428571, 0.61428571, 0.55714286,\n",
       "       0.48571429, 0.04285714, 0.5       , 0.23571429, 0.73571429,\n",
       "       0.59285714, 0.48571429, 0.15714286, 0.83571429, 0.14285714,\n",
       "       0.35      , 0.41428571, 0.62142857, 1.        , 0.70714286,\n",
       "       0.56428571, 0.9       , 0.73571429, 0.24285714, 0.41428571,\n",
       "       0.65      , 0.52142857, 0.65714286, 0.38571429, 0.4       ,\n",
       "       0.55      , 0.52857143, 0.46428571, 0.81428571, 0.6       ,\n",
       "       0.54285714, 0.1       , 0.50714286, 0.2       , 0.63571429,\n",
       "       0.25714286, 0.94285714, 0.36428571, 0.53571429, 0.8       ,\n",
       "       0.34285714, 0.65      , 0.67142857, 0.60714286, 0.31428571,\n",
       "       0.72142857, 0.55714286, 0.78571429, 0.31428571, 0.95714286,\n",
       "       0.17857143, 0.68571429, 0.44285714, 0.69285714, 0.17857143,\n",
       "       0.47142857, 0.52857143, 0.27142857, 0.45      , 0.52857143,\n",
       "       0.48571429, 0.74285714, 0.25714286, 0.85714286, 0.29285714,\n",
       "       0.58571429, 0.70714286, 0.65714286, 0.27857143, 0.78571429,\n",
       "       0.25      , 0.3       , 0.58571429, 0.97142857, 0.02857143,\n",
       "       0.95      , 0.44285714, 0.34285714, 0.48571429, 0.40714286,\n",
       "       0.7       , 0.19285714, 0.37857143, 0.82142857, 0.87142857,\n",
       "       0.47857143, 0.04285714, 0.93571429, 0.47857143, 0.74285714,\n",
       "       0.63571429, 0.35714286, 0.82857143, 0.51428571, 0.22142857,\n",
       "       0.79285714, 0.92142857, 0.6       ])"
      ]
     },
     "execution_count": 29,
     "metadata": {},
     "output_type": "execute_result"
    }
   ],
   "source": [
    "x"
   ]
  },
  {
   "cell_type": "code",
   "execution_count": 30,
   "metadata": {},
   "outputs": [
    {
     "name": "stdout",
     "output_type": "stream",
     "text": [
      "0.29620133517339164\n",
      "0.5238794040938349\n"
     ]
    }
   ],
   "source": [
    "from sklearn.linear_model import LinearRegression\n",
    "lm = LinearRegression()\n",
    "result = lm.fit(x.copy().reshape(-1,1),y.copy().reshape(-1,1))\n",
    "print(result.intercept_[0])\n",
    "print(result.coef_[0][0])"
   ]
  },
  {
   "cell_type": "code",
   "execution_count": 31,
   "metadata": {},
   "outputs": [
    {
     "data": {
      "text/plain": [
       "0.023420461270159777"
      ]
     },
     "execution_count": 31,
     "metadata": {},
     "output_type": "execute_result"
    }
   ],
   "source": [
    "theta0 = result.intercept_[0]\n",
    "theta1 = result.coef_[0][0]\n",
    "sqerror(theta0,theta1)"
   ]
  },
  {
   "cell_type": "markdown",
   "metadata": {},
   "source": [
    "## Task 4- Predict Your Final Exam Score\n",
    "The regression line was obtained using grades from CS 205 course. We can consider them to be training data. Now we trained a model (with theta0 and theta1) so we can predict the grade for your own course based on your midterm grade.\n",
    "We will do few things before we can accomplish this task."
   ]
  },
  {
   "cell_type": "markdown",
   "metadata": {},
   "source": [
    "### Activity 4.1 Read the midterm grades\n",
    "The grade file for CS439 midterm is given in data/CS439_grades.csv. Read this data file to a new "
   ]
  },
  {
   "cell_type": "code",
   "execution_count": 32,
   "metadata": {},
   "outputs": [
    {
     "name": "stdout",
     "output_type": "stream",
     "text": [
      "<class 'pandas.core.frame.DataFrame'>\n",
      "RangeIndex: 97 entries, 0 to 96\n",
      "Data columns (total 1 columns):\n",
      "midterm    97 non-null float64\n",
      "dtypes: float64(1)\n",
      "memory usage: 856.0 bytes\n",
      "<class 'pandas.core.frame.DataFrame'>\n",
      "Int64Index: 96 entries, 0 to 96\n",
      "Data columns (total 1 columns):\n",
      "midterm    96 non-null float64\n",
      "dtypes: float64(1)\n",
      "memory usage: 1.5 KB\n"
     ]
    }
   ],
   "source": [
    "import pandas as pd\n",
    "df_439 = pd.read_csv(\"data/CS439_grades_03_15_19.csv\")\n",
    "df_439.info()\n",
    "mid = df_439[df_439['midterm']<80]\n",
    "mid.info()"
   ]
  },
  {
   "cell_type": "markdown",
   "metadata": {},
   "source": [
    "### Activity 4.2 Predict your Grade\n",
    "Scale the values in the midterm grades of CS 439 and compute the estimated final exam grade. Note that this is probably not a very good estimator since we are trying to predict final exam just by using a midterm score. However, using more features such as labs and quiz scores can help improve the accuracy. We will do that in a future lab. The output is shown as values scaled back to percentages (100% max)"
   ]
  },
  {
   "cell_type": "code",
   "execution_count": 33,
   "metadata": {},
   "outputs": [
    {
     "name": "stdout",
     "output_type": "stream",
     "text": [
      "73.5 34.5\n"
     ]
    },
    {
     "data": {
      "text/plain": [
       "array([61.85886608, 51.78426215, 57.15738425, 36.33653613, 79.32151288,\n",
       "       59.17230503, 50.44098163, 53.79918294, 52.45590241, 41.03801797,\n",
       "       55.14246346, 52.45590241, 69.24690896, 63.87378686, 57.15738425,\n",
       "       52.45590241, 61.85886608, 51.78426215, 61.18722582, 82.00807393,\n",
       "       66.56034791, 61.85886608, 29.62013352, 57.82902451, 47.75442058,\n",
       "       73.27675053, 65.21706739, 77.3065921 , 45.06785954, 67.90362843,\n",
       "       65.21706739, 30.96341404, 61.85886608, 65.88870765, 55.14246346,\n",
       "       81.33643367, 47.75442058, 61.18722582, 53.12754268, 55.81410372,\n",
       "       65.88870765, 61.18722582, 73.27675053, 43.72457901, 61.85886608,\n",
       "       40.3663777 , 39.69473744, 32.97833483, 71.93347   , 53.12754268,\n",
       "       43.72457901, 37.0081764 , 65.21706739, 56.48574398, 42.38129849,\n",
       "       70.59018948, 41.70965823, 61.18722582, 67.23198817, 74.62003105,\n",
       "       55.81410372, 49.09770111, 67.90362843, 62.53050634, 60.51558555,\n",
       "       66.56034791, 32.30669456, 47.75442058, 39.69473744, 55.81410372,\n",
       "       65.21706739, 33.64997509, 65.21706739, 65.21706739, 57.82902451,\n",
       "       50.44098163, 52.45590241, 81.33643367, 71.26182974, 75.96331157,\n",
       "       58.50066477, 63.87378686, 59.84394529, 53.79918294, 56.82156411,\n",
       "       66.56034791, 56.48574398, 52.45590241, 32.97833483, 45.7394998 ,\n",
       "       79.99315314, 65.88870765, 63.2021466 , 49.76934137, 51.78426215,\n",
       "       73.27675053])"
      ]
     },
     "execution_count": 33,
     "metadata": {},
     "output_type": "execute_result"
    }
   ],
   "source": [
    "from sklearn import preprocessing\n",
    "l = mid.midterm.values\n",
    "print(max(l),min(l))\n",
    "l  = (l-min(l))/(max(l) - min(l))\n",
    "final = h(theta0, theta1, l)*100\n",
    "final\n",
    "## END SOLUTION"
   ]
  },
  {
   "cell_type": "code",
   "execution_count": null,
   "metadata": {},
   "outputs": [],
   "source": []
  },
  {
   "cell_type": "markdown",
   "metadata": {},
   "source": [
    "### Feedback\n",
    "Please provide feedback on this lab.\n",
    "* how would you rate this lab (from 1-10, 10-highest) :\n",
    "* how can we improve his lab? :"
   ]
  },
  {
   "cell_type": "markdown",
   "metadata": {},
   "source": [
    "<div class=\"alert alert-block alert-info\">\n",
    "<h2>Submission Instructions</h2> \n",
    "<b> File Name:</b> Please name the file as your_section_your_netID_lab6.jpynb<br>\n",
    "<b> Submit To: </b> Canvas &rarr; Assignments &rarr; lab6 <br>\n",
    "<b>Warning:</b> Failure to follow directions may result in loss points.<br>\n",
    "</div>"
   ]
  },
  {
   "cell_type": "markdown",
   "metadata": {},
   "source": [
    "Lab Developed by A.D. Gunawardena @ 2019 for CS 439"
   ]
  }
 ],
 "metadata": {
  "kernelspec": {
   "display_name": "Python 3",
   "language": "python",
   "name": "python3"
  },
  "language_info": {
   "codemirror_mode": {
    "name": "ipython",
    "version": 3
   },
   "file_extension": ".py",
   "mimetype": "text/x-python",
   "name": "python",
   "nbconvert_exporter": "python",
   "pygments_lexer": "ipython3",
   "version": "3.6.8"
  }
 },
 "nbformat": 4,
 "nbformat_minor": 2
}
