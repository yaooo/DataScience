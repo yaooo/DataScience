{
 "cells": [
  {
   "cell_type": "markdown",
   "metadata": {},
   "source": [
    "# Set up"
   ]
  },
  {
   "cell_type": "code",
   "execution_count": 1,
   "metadata": {},
   "outputs": [],
   "source": [
    "# Run this cell to set up your notebook\n",
    "import csv\n",
    "import numpy as np\n",
    "import pandas as pd\n",
    "import matplotlib.pyplot as plt\n",
    "import zipfile\n",
    "import json\n",
    "\n",
    "# Ensure that Pandas shows at least 280 characters in columns, so we can see full tweets\n",
    "pd.set_option('max_colwidth', 280)\n",
    "\n",
    "%matplotlib inline\n",
    "plt.style.use('fivethirtyeight')\n",
    "import seaborn as sns\n",
    "sns.set()\n",
    "sns.set_context(\"talk\")\n",
    "import re"
   ]
  },
  {
   "cell_type": "code",
   "execution_count": 2,
   "metadata": {},
   "outputs": [],
   "source": [
    "## Make sure you have set up tweepy if you are working locally.\n",
    "# https://www.pythoncentral.io/introduction-to-tweepy-twitter-for-python/\n",
    "# After set up, the following should run:\n",
    "import tweepy"
   ]
  },
  {
   "cell_type": "code",
   "execution_count": 3,
   "metadata": {},
   "outputs": [],
   "source": [
    "import json\n",
    "key_file = 'keys.json'\n",
    "# Loading your keys from keys.json (which you should have filled\n",
    "# in in question 1):\n",
    "with open(key_file) as f:\n",
    "    keys = json.load(f)\n",
    "# if you print or view the contents of keys be sure to delete the cell!"
   ]
  },
  {
   "cell_type": "code",
   "execution_count": 4,
   "metadata": {},
   "outputs": [
    {
     "name": "stdout",
     "output_type": "stream",
     "text": [
      "Your username is: bigbroyaoyaoyao\n"
     ]
    }
   ],
   "source": [
    "import tweepy\n",
    "from tweepy import TweepError\n",
    "import logging\n",
    "\n",
    "try:\n",
    "    auth = tweepy.OAuthHandler(keys[\"consumer_key\"], keys[\"consumer_secret\"])\n",
    "    auth.set_access_token(keys[\"access_token\"], keys[\"access_token_secret\"])\n",
    "    api = tweepy.API(auth)\n",
    "    print(\"Your username is:\", api.auth.get_username())\n",
    "except TweepError as e:\n",
    "    logging.warning(\"There was a Tweepy error. Double check your API keys and try again.\")\n",
    "    logging.warning(e)"
   ]
  },
  {
   "cell_type": "code",
   "execution_count": 5,
   "metadata": {},
   "outputs": [],
   "source": [
    "from pathlib import Path\n",
    "import json\n",
    "\n",
    "ds_tweets_save_path = \"data/RutgersU_recent_tweets.json\"   # need to get this file\n",
    "\n",
    "# Guarding against attempts to download the data multiple\n",
    "# times:\n",
    "if not Path(ds_tweets_save_path).is_file():\n",
    "    # Getting as many recent tweets by @RutgersU as Twitter will let us have.\n",
    "    # We use tweet_mode='extended' so that Twitter gives us full 280 character tweets.\n",
    "    # This was a change introduced in September 2017.\n",
    "    \n",
    "    # The tweepy Cursor API actually returns \"sophisticated\" Status objects but we \n",
    "    # will use the basic Python dictionaries stored in the _json field. \n",
    "    example_tweets = [t._json for t in tweepy.Cursor(api.user_timeline, id=\"RutgersU\", \n",
    "                                             tweet_mode='extended').items()]\n",
    "    \n",
    "    # Saving the tweets to a json file on disk for future analysis\n",
    "    with open(ds_tweets_save_path, \"w\") as f:        \n",
    "        json.dump(example_tweets, f)\n",
    "\n",
    "# Re-loading the json file:\n",
    "with open(ds_tweets_save_path, \"r\") as f:\n",
    "    example_tweets = json.load(f)"
   ]
  },
  {
   "cell_type": "code",
   "execution_count": 6,
   "metadata": {},
   "outputs": [
    {
     "name": "stdout",
     "output_type": "stream",
     "text": [
      "{'contributors': None,\n",
      " 'coordinates': None,\n",
      " 'created_at': 'Fri Mar 01 18:53:50 +0000 2019',\n",
      " 'display_text_range': [0, 279],\n",
      " 'entities': {'hashtags': [],\n",
      "              'media': [{'display_url': 'pic.twitter.com/cnEOnFuyfV',\n",
      "                         'expanded_url': 'https://twitter.com/RutgersU/status/1101556166411329538/photo/1',\n",
      "                         'id': 1101553607386763266,\n",
      "                         'id_str': '1101553607386763266',\n",
      "                         'indices': [280, 303],\n",
      "                         'media_url': 'http://pbs.twimg.com/media/D0mBK21WkAIzilu.jpg',\n",
      "                         'media_url_https': 'https://pbs.twimg.com/media/D0mBK21WkAIzilu.jpg',\n",
      "                         'sizes': {'large': {'h': 1253,\n",
      "                                             'resize': 'fit',\n",
      "                                             'w': 1080},\n",
      "                                   'medium': {'h': 1200,\n",
      "                                              'resize': 'fit',\n",
      "                                              'w': 1034},\n",
      "                                   'small': {'h': 680,\n",
      "                                             'resize': 'fit',\n",
      "                                             'w': 586},\n",
      "                                   'thumb': {'h': 150,\n",
      "                                             'resize': 'crop',\n",
      "                                             'w': 150}},\n",
      "                         'type': 'photo',\n",
      "                         'url': 'https://t.co/cnEOnFuyfV'}],\n",
      "              'symbols': [],\n",
      "              'urls': [],\n",
      "              'user_mentions': []},\n",
      " 'extended_entities': {'media': [{'display_url': 'pic.twitter.com/cnEOnFuyfV',\n",
      "                                  'expanded_url': 'https://twitter.com/RutgersU/status/1101556166411329538/photo/1',\n",
      "                                  'id': 1101553607386763266,\n",
      "                                  'id_str': '1101553607386763266',\n",
      "                                  'indices': [280, 303],\n",
      "                                  'media_url': 'http://pbs.twimg.com/media/D0mBK21WkAIzilu.jpg',\n",
      "                                  'media_url_https': 'https://pbs.twimg.com/media/D0mBK21WkAIzilu.jpg',\n",
      "                                  'sizes': {'large': {'h': 1253,\n",
      "                                                      'resize': 'fit',\n",
      "                                                      'w': 1080},\n",
      "                                            'medium': {'h': 1200,\n",
      "                                                       'resize': 'fit',\n",
      "                                                       'w': 1034},\n",
      "                                            'small': {'h': 680,\n",
      "                                                      'resize': 'fit',\n",
      "                                                      'w': 586},\n",
      "                                            'thumb': {'h': 150,\n",
      "                                                      'resize': 'crop',\n",
      "                                                      'w': 150}},\n",
      "                                  'type': 'photo',\n",
      "                                  'url': 'https://t.co/cnEOnFuyfV'}]},\n",
      " 'favorite_count': 11,\n",
      " 'favorited': False,\n",
      " 'full_text': 'One of the women who inspires us is Cheryl Clarke, a poet and '\n",
      "              'feminist scholar. In 1992, she became the founding director of '\n",
      "              'the Office of Diverse Community Affairs and Lesbian and Gay '\n",
      "              'Concerns, known today as the Rutgers Center for Social Justice '\n",
      "              'Education and LGBT Communities. https://t.co/cnEOnFuyfV',\n",
      " 'geo': None,\n",
      " 'id': 1101556166411329538,\n",
      " 'id_str': '1101556166411329538',\n",
      " 'in_reply_to_screen_name': 'RutgersU',\n",
      " 'in_reply_to_status_id': 1101556165794779136,\n",
      " 'in_reply_to_status_id_str': '1101556165794779136',\n",
      " 'in_reply_to_user_id': 19272796,\n",
      " 'in_reply_to_user_id_str': '19272796',\n",
      " 'is_quote_status': False,\n",
      " 'lang': 'en',\n",
      " 'place': None,\n",
      " 'possibly_sensitive': False,\n",
      " 'retweet_count': 4,\n",
      " 'retweeted': False,\n",
      " 'source': '<a href=\"http://twitter.com\" rel=\"nofollow\">Twitter Web Client</a>',\n",
      " 'truncated': False,\n",
      " 'user': {'contributors_enabled': False,\n",
      "          'created_at': 'Wed Jan 21 02:57:47 +0000 2009',\n",
      "          'default_profile': False,\n",
      "          'default_profile_image': False,\n",
      "          'description': 'Rutgers, The State University of New Jersey, is a '\n",
      "                         'leading public research university. Follow us for '\n",
      "                         'all things Rutgers.',\n",
      "          'entities': {'description': {'urls': []},\n",
      "                       'url': {'urls': [{'display_url': 'rutgers.edu',\n",
      "                                         'expanded_url': 'http://www.rutgers.edu',\n",
      "                                         'indices': [0, 22],\n",
      "                                         'url': 'http://t.co/stAPJIzh8b'}]}},\n",
      "          'favourites_count': 3639,\n",
      "          'follow_request_sent': False,\n",
      "          'followers_count': 130302,\n",
      "          'following': False,\n",
      "          'friends_count': 574,\n",
      "          'geo_enabled': True,\n",
      "          'has_extended_profile': False,\n",
      "          'id': 19272796,\n",
      "          'id_str': '19272796',\n",
      "          'is_translation_enabled': False,\n",
      "          'is_translator': False,\n",
      "          'lang': 'en',\n",
      "          'listed_count': 826,\n",
      "          'location': 'New Jersey',\n",
      "          'name': 'Rutgers University',\n",
      "          'notifications': False,\n",
      "          'profile_background_color': 'C7141C',\n",
      "          'profile_background_image_url': 'http://abs.twimg.com/images/themes/theme15/bg.png',\n",
      "          'profile_background_image_url_https': 'https://abs.twimg.com/images/themes/theme15/bg.png',\n",
      "          'profile_background_tile': False,\n",
      "          'profile_banner_url': 'https://pbs.twimg.com/profile_banners/19272796/1494779773',\n",
      "          'profile_image_url': 'http://pbs.twimg.com/profile_images/809450270375772160/rWmyBIig_normal.jpg',\n",
      "          'profile_image_url_https': 'https://pbs.twimg.com/profile_images/809450270375772160/rWmyBIig_normal.jpg',\n",
      "          'profile_link_color': '0084B4',\n",
      "          'profile_sidebar_border_color': '000205',\n",
      "          'profile_sidebar_fill_color': 'C0DFEC',\n",
      "          'profile_text_color': '333333',\n",
      "          'profile_use_background_image': False,\n",
      "          'protected': False,\n",
      "          'screen_name': 'RutgersU',\n",
      "          'statuses_count': 14235,\n",
      "          'time_zone': None,\n",
      "          'translator_type': 'none',\n",
      "          'url': 'http://t.co/stAPJIzh8b',\n",
      "          'utc_offset': None,\n",
      "          'verified': True}}\n"
     ]
    }
   ],
   "source": [
    "# Looking at one tweet object, which has type Status: \n",
    "from pprint import pprint # ...to get a more easily-readable view.\n",
    "pprint(example_tweets[2])"
   ]
  },
  {
   "cell_type": "markdown",
   "metadata": {},
   "source": [
    "# Task 2.1\n",
    "Re-factor the above code fragment into reusable snippets below. You should not need to make major modifications; this is mostly an exercise in understanding the above code block."
   ]
  },
  {
   "cell_type": "code",
   "execution_count": 7,
   "metadata": {},
   "outputs": [],
   "source": [
    "def load_keys(path):\n",
    "    \"\"\"Loads your Twitter authentication keys from a file on disk.\n",
    "    \n",
    "    Args:\n",
    "        path (str): The path to your key file.  The file should\n",
    "          be in JSON format and look like this (but filled in):\n",
    "            {\n",
    "                \"consumer_key\": \"<your Consumer Key here>\",\n",
    "                \"consumer_secret\":  \"<your Consumer Secret here>\",\n",
    "                \"access_token\": \"<your Access Token here>\",\n",
    "                \"access_token_secret\": \"<your Access Token Secret here>\"\n",
    "            }\n",
    "    \n",
    "    Returns:\n",
    "        dict: A dictionary mapping key names (like \"consumer_key\") to\n",
    "          key values.\"\"\"\n",
    "    \n",
    "    if not Path(ds_tweets_save_path).is_file():\n",
    "        print(\"Not file found\")\n",
    "        return {}\n",
    "    else:\n",
    "        with open(path) as f:\n",
    "            return json.load(f)"
   ]
  },
  {
   "cell_type": "code",
   "execution_count": 8,
   "metadata": {},
   "outputs": [],
   "source": [
    "def download_recent_tweets_by_user(user_account_name, keys):\n",
    "    \"\"\"Downloads tweets by one Twitter user.\n",
    "\n",
    "    Args:\n",
    "        user_account_name (str): The name of the Twitter account\n",
    "          whose tweets will be downloaded.\n",
    "        keys (dict): A Python dictionary with Twitter authentication\n",
    "          keys (strings), like this (but filled in):\n",
    "            {\n",
    "                \"consumer_key\": \"<your Consumer Key here>\",\n",
    "                \"consumer_secret\":  \"<your Consumer Secret here>\",\n",
    "                \"access_token\": \"<your Access Token here>\",\n",
    "                \"access_token_secret\": \"<your Access Token Secret here>\"\n",
    "            }\n",
    "\n",
    "    Returns:\n",
    "        list: A list of Dictonary objects, each representing one tweet.\"\"\"\n",
    "    \n",
    "    import tweepy\n",
    "    from tweepy import TweepError\n",
    "    import logging\n",
    "\n",
    "    # Authenticating:\n",
    "    try:\n",
    "        auth = tweepy.OAuthHandler(keys[\"consumer_key\"], keys[\"consumer_secret\"])\n",
    "        auth.set_access_token(keys[\"access_token\"], keys[\"access_token_secret\"])\n",
    "        api = tweepy.API(auth)\n",
    "        print(\"Succeed!!!\")\n",
    "        \n",
    "        # Download the recent tweets from one user\n",
    "        from pathlib import Path\n",
    "        import json\n",
    "        ds_tweets_save_path = \"data/\" +user_account_name + \"_recent_tweets.json\"\n",
    "        if not Path(ds_tweets_save_path).is_file():\n",
    "            example_tweets = [t._json for t in tweepy.Cursor(api.user_timeline, id=user_account_name, \n",
    "                                                     tweet_mode='extended').items()]\n",
    "            with open(ds_tweets_save_path, \"w\") as f:        \n",
    "                json.dump(example_tweets, f)\n",
    "                \n",
    "        with open(ds_tweets_save_path, \"r\") as f:\n",
    "                return json.load(f)\n",
    "        \n",
    "    except TweepError as e:\n",
    "        logging.warning(\"There was a Tweepy error. Double check your API keys and try again.\")\n",
    "        logging.warning(e)"
   ]
  },
  {
   "cell_type": "code",
   "execution_count": 9,
   "metadata": {},
   "outputs": [],
   "source": [
    "def load_tweets(path):\n",
    "    \"\"\"Loads tweets that have previously been saved.\n",
    "    \n",
    "    Calling load_tweets(path) after save_tweets(tweets, path)\n",
    "    will produce the same list of tweets.\n",
    "    \n",
    "    Args:\n",
    "        path (str): The place where the tweets were be saved.\n",
    "\n",
    "    Returns:\n",
    "        list: A list of Dictionary objects, each representing one tweet.\"\"\"\n",
    "    if not Path(ds_tweets_save_path).is_file():\n",
    "        print(\"Cannot find this file\")\n",
    "    else:\n",
    "        with open(path, \"r\") as f:\n",
    "            return json.load(f) "
   ]
  },
  {
   "cell_type": "code",
   "execution_count": 10,
   "metadata": {},
   "outputs": [],
   "source": [
    "def get_tweets_with_cache(user_account_name, keys_path):\n",
    "    \"\"\"Get recent tweets from one user, loading from a disk cache if available.\n",
    "    \n",
    "    The first time you call this function, it will download tweets by\n",
    "    a user.  Subsequent calls will not re-download the tweets; instead\n",
    "    they'll load the tweets from a save file in your local filesystem.\n",
    "    All this is done using the functions you defined in the previous cell.\n",
    "    This has benefits and drawbacks that often appear when you cache data:\n",
    "    \n",
    "    +: Using this function will prevent extraneous usage of the Twitter API.\n",
    "    +: You will get your data much faster after the first time it's called.\n",
    "    -: If you really want to re-download the tweets (say, to get newer ones,\n",
    "       or because you screwed up something in the previous cell and your\n",
    "       tweets aren't what you wanted), you'll have to find the save file\n",
    "       (which will look like <something>_recent_tweets.pkl) and delete it.\n",
    "    \n",
    "    Args:\n",
    "        user_account_name (str): The Twitter handle of a user, without the @.\n",
    "        keys_path (str): The path to a JSON keys file in your filesystem.\n",
    "    \"\"\"\n",
    "    \n",
    "    return download_recent_tweets_by_user(user_account_name, keys_path)"
   ]
  },
  {
   "cell_type": "markdown",
   "metadata": {},
   "source": [
    "## Testing the above methods\n",
    "If everything was implemented correctly you should be able to obtain roughly the last 3000 tweets by the realdonaldtrump. (This may take a few minutes)\n"
   ]
  },
  {
   "cell_type": "code",
   "execution_count": 11,
   "metadata": {},
   "outputs": [
    {
     "name": "stdout",
     "output_type": "stream",
     "text": [
      "Succeed!!!\n",
      "Number of tweets downloaded: 3204\n",
      "Number of tweets(2016-2017): 6830\n"
     ]
    }
   ],
   "source": [
    "# When you are done, run this cell to load @realdonaldtrump's tweets.\n",
    "# Note the function get_tweets_with_cache.  You may find it useful\n",
    "# later.\n",
    "key = load_keys(key_file)\n",
    "trump_tweets = get_tweets_with_cache(\"realdonaldtrump\", key)\n",
    "print(\"Number of tweets downloaded:\", len(trump_tweets))\n",
    "\n",
    "\n",
    "# Load the old_tweet given\n",
    "oldest_tweet = load_tweets(\"data/2016-2017.json\")\n",
    "print(\"Number of tweets(2016-2017):\", len(oldest_tweet))\n"
   ]
  },
  {
   "cell_type": "markdown",
   "metadata": {},
   "source": [
    "# Task 2.1(alternate)\n",
    "\n",
    "This alternate starting point is here for those of you who have trouble getting a Twitter developer account. You should only use this if Twitter has rejected your application or if they have gone silent on you for at least a day."
   ]
  },
  {
   "cell_type": "markdown",
   "metadata": {},
   "source": [
    "<font color='red' >The code below does not work because the URL is not valid</font>\n"
   ]
  },
  {
   "cell_type": "code",
   "execution_count": 12,
   "metadata": {
    "scrolled": true
   },
   "outputs": [],
   "source": [
    "# Download the dataset if cannot get the developer access\n",
    "\n",
    "### USE \"ctrl/cmd\" + \"/\" to comment/uncomment the code below ###\n",
    "\n",
    "# from utils import fetch_and_cache\n",
    "\n",
    "# # if the download is not working, you can find the file in Canvas ==> files\n",
    "# data_url = 'https://rutgers.instructure.com/courses/21255/files/4456420/download?download_frd=1'\n",
    "# file_name = 'realdonaldtrump_old_tweets.json'\n",
    "# dest_path = fetch_and_cache(data_url=data_url, file=file_name)\n",
    "# print(dest_path)\n",
    "# def load_tweets(path):\n",
    "\n",
    "#     print(f'Located at {dest_path}')\n",
    "#     with open(path, \"rb\") as f:\n",
    "#         import json\n",
    "#         return json.load(f)\n",
    "\n",
    "# trump_tweets = load_tweets(dest_path)\n",
    "# assert 2000 <= len(trump_tweets) <= 4000"
   ]
  },
  {
   "cell_type": "markdown",
   "metadata": {},
   "source": [
    "# Task 2.2\n",
    "\n",
    "Find the number of the month of the oldest tweet."
   ]
  },
  {
   "cell_type": "code",
   "execution_count": 13,
   "metadata": {},
   "outputs": [
    {
     "name": "stdout",
     "output_type": "stream",
     "text": [
      "There are 709 tweets in January\n"
     ]
    }
   ],
   "source": [
    "# Enter the number of the month of the oldest tweet (e.g. 1 for January)\n",
    "oldest_month = 1\n",
    "\n",
    "### BEGIN SOLUTION\n",
    "import calendar\n",
    "month_abbr = dict((k,v) for k,v in enumerate(calendar.month_abbr))\n",
    "\n",
    "selected_month = month_abbr[oldest_month]\n",
    "\n",
    "count = 0\n",
    "for i in oldest_tweet:\n",
    "    date = i['created_at'].split()\n",
    "    if selected_month in date:\n",
    "        count+=1\n",
    "print(\"There are\", count , \"tweets in\", calendar.month_name [list(calendar.month_abbr).index(selected_month)])\n",
    "\n",
    "### END SOLUTION\n"
   ]
  },
  {
   "cell_type": "markdown",
   "metadata": {},
   "source": [
    "# PART 3 Twitter Source Analysis¶"
   ]
  },
  {
   "cell_type": "code",
   "execution_count": 14,
   "metadata": {},
   "outputs": [
    {
     "name": "stdout",
     "output_type": "stream",
     "text": [
      "Total length before combining two lists： 13248\n",
      "Total length after combining two lists： 11479\n"
     ]
    }
   ],
   "source": [
    "# merge two json files\n",
    "tweets_2018_2019 = load_tweets('data/realdonaldtrump_old_tweets.json')\n",
    "\n",
    "mylist = trump_tweets.copy()+(oldest_tweet).copy() + tweets_2018_2019\n",
    "unique_list = list({v['id']:v for v in mylist}.values())\n",
    "print(\"Total length before combining two lists：\", len(trump_tweets)+len(oldest_tweet)+len(tweets_2018_2019))\n",
    "print(\"Total length after combining two lists：\", len(unique_list))\n",
    "\n",
    "all_tweets = unique_list\n"
   ]
  },
  {
   "cell_type": "code",
   "execution_count": 15,
   "metadata": {},
   "outputs": [],
   "source": [
    "# rename all text to full_text\n",
    "import os\n",
    "import re\n",
    "\n",
    "def cleanhtml(raw_html):\n",
    "    cleanr = re.compile('<.*?>')\n",
    "    cleantext = re.sub(cleanr, '', raw_html)\n",
    "    return cleantext\n",
    "\n",
    "for i in all_tweets:\n",
    "    if 'full_text' in i:\n",
    "        i['text'] = i.pop('full_text')\n",
    "    if i['source'].startswith('<'):\n",
    "        i['source'] = cleanhtml(i['source'])\n",
    "    if 'id' in i:\n",
    "        i['ID'] = i.pop('id')\n",
    "    if 'created_at' in i:\n",
    "        i['time'] = i.pop('created_at')\n",
    "\n",
    "# Create a temp file for storing all tweets\n",
    "temp_file = 'data/all_tweets.json'\n",
    "\n",
    "if os.path.exists(temp_file):\n",
    "    os.remove(temp_file)   \n",
    "with open(temp_file, 'w') as outfile:\n",
    "    json.dump(all_tweets, outfile)\n",
    "\n",
    "#ID --> 'id'\n",
    "#time --> 'created_at'\n",
    "#text --> 'full_text' or 'text'\n",
    "#source --> 'source'\n",
    "#retweet_count --> 'retweet_count'\n",
    "\n",
    "# Load the first sheet of the JSON file into a data frame\n",
    "df_trump = pd.read_json(open('data/all_tweets.json'))\n",
    "df_trump = df_trump[['ID', 'time', 'text', 'source', 'retweet_count']]\n",
    "df_trump.drop_duplicates()\n",
    "df_trump['time'] = pd.to_datetime(df_trump['time'])\n",
    "df_trump = df_trump.set_index('ID')\n",
    "\n",
    "# df_trump['time'].dt.tz_localize(None)\n",
    "df_trump['time'] = df_trump['time'].astype('datetime64[ns]')"
   ]
  },
  {
   "cell_type": "code",
   "execution_count": 18,
   "metadata": {},
   "outputs": [],
   "source": [
    "# prview the cleaned dataframe\n",
    "# df_trump.head(-10)"
   ]
  },
  {
   "cell_type": "code",
   "execution_count": 20,
   "metadata": {
    "scrolled": true
   },
   "outputs": [],
   "source": [
    "# These assertion statements can be changed (if you'd like) as things can be different based on \n",
    "# if you are using old and new tweets or just the old tweets. \n",
    "# The goal here is to check the validity of the data\n",
    "\n",
    "assert isinstance(df_trump, pd.DataFrame)\n",
    "assert df_trump.shape[0] < 12000\n",
    "assert df_trump.shape[1] >= 4\n",
    "# assert 831846101179314177 in df_trump.index\n",
    "# assert 753063644578144260 in df_trump.index\n",
    "assert all(col in df_trump.columns for col in ['time', 'source', 'text', 'retweet_count'])\n",
    "# If you fail these tests, you probably tried to use __dict__ or _json to read in the tweets\n",
    "assert np.sometrue([('Twitter for iPhone' in s) for s in df_trump['source'].unique()])\n",
    "assert df_trump['time'].dtype == np.dtype('<M8[ns]')\n",
    "assert df_trump['text'].dtype == np.dtype('O')\n",
    "assert df_trump['retweet_count'].dtype == np.dtype('int64')"
   ]
  },
  {
   "cell_type": "code",
   "execution_count": 21,
   "metadata": {},
   "outputs": [
    {
     "data": {
      "text/plain": [
       "array(['Twitter for iPhone', 'Twitter for iPad', 'Twitter Media Studio',\n",
       "       'Media Studio', 'Twitter Web Client', 'Twitter Ads',\n",
       "       'Twitter for Android', 'Periscope', 'TweetDeck', 'Instagram',\n",
       "       'Mobile Web (M5)'], dtype=object)"
      ]
     },
     "execution_count": 21,
     "metadata": {},
     "output_type": "execute_result"
    }
   ],
   "source": [
    "df_trump['source'].unique()"
   ]
  },
  {
   "cell_type": "markdown",
   "metadata": {},
   "source": [
    "# Task 3.3\n",
    "\n",
    "Remove the HTML tags from the source field."
   ]
  },
  {
   "cell_type": "code",
   "execution_count": 22,
   "metadata": {},
   "outputs": [],
   "source": [
    "# Already did it when parsing the json data\n",
    "df_trump['source'] = df_trump['source']"
   ]
  },
  {
   "cell_type": "markdown",
   "metadata": {},
   "source": [
    "<font color='red' >The code below does not work because the old json file was not posted</font>"
   ]
  },
  {
   "cell_type": "code",
   "execution_count": 23,
   "metadata": {},
   "outputs": [],
   "source": [
    "from datetime import datetime\n",
    "ELEC_DATE = datetime(2016, 11, 8)\n",
    "INAUG_DATE = datetime(2017, 1, 20)\n",
    "assert set(df_trump[(df_trump['time'] > ELEC_DATE) & (df_trump['time'] < INAUG_DATE) ]['source'].unique()) == set(['Twitter Ads',\n",
    " 'Twitter Web Client',\n",
    " 'Twitter for Android',\n",
    " 'Twitter for iPhone'])\n"
   ]
  },
  {
   "cell_type": "code",
   "execution_count": 24,
   "metadata": {},
   "outputs": [
    {
     "data": {
      "image/png": "[encoded data removed]",
      "text/plain": [
       "<Figure size 432x288 with 1 Axes>"
      ]
     },
     "metadata": {
      "needs_background": "light"
     },
     "output_type": "display_data"
    }
   ],
   "source": [
    "plt.figure()\n",
    "df_trump['source'].value_counts(ascending=True).plot(kind=\"barh\", color='xkcd:azure')\n",
    "plt.xlabel(\"Number of Tweets\")\n",
    "plt.title('The most common device types used in accessing twitter')\n",
    "plt.show()"
   ]
  },
  {
   "cell_type": "markdown",
   "metadata": {},
   "source": [
    "# Task 3.4\n",
    "\n",
    "Is there a difference between his Tweet behavior across these devices? We will attempt to answer this question in our subsequent analysis.\n",
    "\n",
    "First, we'll take a look at whether Trump's tweets from an Android come at different times than his tweets from an iPhone. Note that Twitter gives us his tweets in the UTC timezone (notice the +0000 in the first few tweets)\n"
   ]
  },
  {
   "cell_type": "code",
   "execution_count": 25,
   "metadata": {},
   "outputs": [
    {
     "data": {
      "text/html": [
       "<div>\n",
       "<style scoped>\n",
       "    .dataframe tbody tr th:only-of-type {\n",
       "        vertical-align: middle;\n",
       "    }\n",
       "\n",
       "    .dataframe tbody tr th {\n",
       "        vertical-align: top;\n",
       "    }\n",
       "\n",
       "    .dataframe thead th {\n",
       "        text-align: right;\n",
       "    }\n",
       "</style>\n",
       "<table border=\"1\" class=\"dataframe\">\n",
       "  <thead>\n",
       "    <tr style=\"text-align: right;\">\n",
       "      <th></th>\n",
       "      <th>time</th>\n",
       "      <th>text</th>\n",
       "      <th>source</th>\n",
       "      <th>retweet_count</th>\n",
       "      <th>est_time</th>\n",
       "    </tr>\n",
       "    <tr>\n",
       "      <th>ID</th>\n",
       "      <th></th>\n",
       "      <th></th>\n",
       "      <th></th>\n",
       "      <th></th>\n",
       "      <th></th>\n",
       "    </tr>\n",
       "  </thead>\n",
       "  <tbody>\n",
       "    <tr>\n",
       "      <th>1101880269106221056</th>\n",
       "      <td>2019-03-02 16:21:42</td>\n",
       "      <td>Thank you @marklevinshow!\\nhttps://t.co/dwQR11genG</td>\n",
       "      <td>Twitter for iPhone</td>\n",
       "      <td>10849</td>\n",
       "      <td>2019-03-02 11:21:42-05:00</td>\n",
       "    </tr>\n",
       "    <tr>\n",
       "      <th>1101870920795373568</th>\n",
       "      <td>2019-03-02 15:44:33</td>\n",
       "      <td>@TeamCavuto  It was a 3 day train ride to Vietnam, not 3 hours!</td>\n",
       "      <td>Twitter for iPhone</td>\n",
       "      <td>1601</td>\n",
       "      <td>2019-03-02 10:44:33-05:00</td>\n",
       "    </tr>\n",
       "    <tr>\n",
       "      <th>1101857665037287424</th>\n",
       "      <td>2019-03-02 14:51:53</td>\n",
       "      <td>RT @realDonaldTrump: 93% Approval Rating in the Republican Party. 52% Approval Rating overall! Not bad considering I get the most unfair (B…</td>\n",
       "      <td>Twitter for iPhone</td>\n",
       "      <td>34498</td>\n",
       "      <td>2019-03-02 09:51:53-05:00</td>\n",
       "    </tr>\n",
       "    <tr>\n",
       "      <th>1101857408001949696</th>\n",
       "      <td>2019-03-02 14:50:52</td>\n",
       "      <td>RT @realDonaldTrump: I hope our great Republican Senators don’t get led down the path of weak and ineffective Border Security. Without stro…</td>\n",
       "      <td>Twitter for iPhone</td>\n",
       "      <td>27707</td>\n",
       "      <td>2019-03-02 09:50:52-05:00</td>\n",
       "    </tr>\n",
       "    <tr>\n",
       "      <th>1101856883634302976</th>\n",
       "      <td>2019-03-02 14:48:47</td>\n",
       "      <td>RT @realDonaldTrump: Since my election as President the Dow Jones is up 43% and the NASDAQ Composite almost 50%. Great news for your 401(k)…</td>\n",
       "      <td>Twitter for iPhone</td>\n",
       "      <td>24511</td>\n",
       "      <td>2019-03-02 09:48:47-05:00</td>\n",
       "    </tr>\n",
       "  </tbody>\n",
       "</table>\n",
       "</div>"
      ],
      "text/plain": [
       "                                   time  \\\n",
       "ID                                        \n",
       "1101880269106221056 2019-03-02 16:21:42   \n",
       "1101870920795373568 2019-03-02 15:44:33   \n",
       "1101857665037287424 2019-03-02 14:51:53   \n",
       "1101857408001949696 2019-03-02 14:50:52   \n",
       "1101856883634302976 2019-03-02 14:48:47   \n",
       "\n",
       "                                                                                                                                                             text  \\\n",
       "ID                                                                                                                                                                  \n",
       "1101880269106221056                                                                                            Thank you @marklevinshow!\\nhttps://t.co/dwQR11genG   \n",
       "1101870920795373568                                                                               @TeamCavuto  It was a 3 day train ride to Vietnam, not 3 hours!   \n",
       "1101857665037287424  RT @realDonaldTrump: 93% Approval Rating in the Republican Party. 52% Approval Rating overall! Not bad considering I get the most unfair (B…   \n",
       "1101857408001949696  RT @realDonaldTrump: I hope our great Republican Senators don’t get led down the path of weak and ineffective Border Security. Without stro…   \n",
       "1101856883634302976  RT @realDonaldTrump: Since my election as President the Dow Jones is up 43% and the NASDAQ Composite almost 50%. Great news for your 401(k)…   \n",
       "\n",
       "                                 source  retweet_count  \\\n",
       "ID                                                       \n",
       "1101880269106221056  Twitter for iPhone          10849   \n",
       "1101870920795373568  Twitter for iPhone           1601   \n",
       "1101857665037287424  Twitter for iPhone          34498   \n",
       "1101857408001949696  Twitter for iPhone          27707   \n",
       "1101856883634302976  Twitter for iPhone          24511   \n",
       "\n",
       "                                     est_time  \n",
       "ID                                             \n",
       "1101880269106221056 2019-03-02 11:21:42-05:00  \n",
       "1101870920795373568 2019-03-02 10:44:33-05:00  \n",
       "1101857665037287424 2019-03-02 09:51:53-05:00  \n",
       "1101857408001949696 2019-03-02 09:50:52-05:00  \n",
       "1101856883634302976 2019-03-02 09:48:47-05:00  "
      ]
     },
     "execution_count": 25,
     "metadata": {},
     "output_type": "execute_result"
    }
   ],
   "source": [
    "df_trump['est_time'] = (\n",
    "    df_trump['time'].dt.tz_localize(\"UTC\") # Set initial timezone to UTC\n",
    "                 .dt.tz_convert(\"EST\") # Convert to Eastern Time\n",
    ")\n",
    "df_trump.head()"
   ]
  },
  {
   "cell_type": "code",
   "execution_count": 26,
   "metadata": {},
   "outputs": [
    {
     "data": {
      "image/png": "[encoded data removed]",
      "text/plain": [
       "<Figure size 864x576 with 1 Axes>"
      ]
     },
     "metadata": {
      "needs_background": "light"
     },
     "output_type": "display_data"
    }
   ],
   "source": [
    "df_trump['hour'] = df_trump.est_time.apply(lambda x: x.hour + x.minute/60 + x.minute/3600)# make a bar plot here\n",
    "\n",
    "# make a bar plot here\n",
    "\n",
    "# bar plot is useless here(personal note)\n",
    "\n",
    "### BEGIN SOLUTION\n",
    "# plt.figure()\n",
    "# df_trump['hour'].value_counts().plot(kind=\"bar\", color='xkcd:azure')\n",
    "# plt.xlabel(\"Hours\")\n",
    "# plt.show()\n",
    "### END SOLUTION\n",
    "\n",
    "plt.figure(figsize=(12,8))\n",
    "df_trump_iphone = df_trump[(df_trump['source'] == 'Twitter for iPhone')]['hour']\n",
    "\n",
    "df_trump_media = df_trump[(df_trump['source'] == 'Twitter for Android')]['hour']\n",
    "ax = sns.distplot(df_trump_iphone, hist=False, label = 'iPhone', color = 'green')\n",
    "ax1 = sns.distplot(df_trump_media, hist=False, label = 'Android', color = 'orange')\n",
    "ax.set_xlabel(\"Hour\")\n",
    "ax.set_ylabel(\"Fraction\")\n",
    "plt.show()"
   ]
  },
  {
   "cell_type": "markdown",
   "metadata": {},
   "source": [
    "<font color='red' >Modified the code below (increased abs error). Bar plot is useless too.</font>"
   ]
  },
  {
   "cell_type": "code",
   "execution_count": 27,
   "metadata": {},
   "outputs": [],
   "source": [
    "assert np.isclose(df_trump.loc[690171032150237184]['hour'], 8.93639, 0.01)\n",
    "# x = df_trump.loc[690171032150237184]['hour']\n",
    "# np.isclose(x, 8.936, 0.001)"
   ]
  },
  {
   "cell_type": "markdown",
   "metadata": {},
   "source": [
    "# Task 3.5"
   ]
  },
  {
   "cell_type": "markdown",
   "metadata": {},
   "source": [
    "<b><font color = 'Black'>According to this Verge article, Donald Trump switched from an Android to an iPhone sometime in March 2017.\n",
    "\n",
    "Show the results only from 2016.\n",
    "\n",
    "During the campaign, it was theorized that Donald Trump's tweets from Android were written by him personally, and the tweets from iPhone were from his staff. Does your figure give support the theory?</font></b>"
   ]
  },
  {
   "cell_type": "markdown",
   "metadata": {},
   "source": [
    "Response: In 2016, the time allocation for the usage of the iphone centered in the afternoon, while his tweets from 2015 to present shows that he mostly uses his iphone in the morning. This finding does support the argument above, but we still need to further investigate into this argument."
   ]
  },
  {
   "cell_type": "code",
   "execution_count": 28,
   "metadata": {},
   "outputs": [
    {
     "data": {
      "image/png": "[encoded data removed]",
      "text/plain": [
       "<Figure size 864x576 with 1 Axes>"
      ]
     },
     "metadata": {
      "needs_background": "light"
     },
     "output_type": "display_data"
    }
   ],
   "source": [
    "plt.figure(figsize=(12,8))\n",
    "x = df_trump[(df_trump.time.dt.year == 2016)]\n",
    "\n",
    "df_trump_iphone = x[(x['source'] == 'Twitter for iPhone')]['hour']\n",
    "\n",
    "df_trump_android = x[(x['source'] == 'Twitter for Android')]['hour']\n",
    "ax = sns.distplot(df_trump_iphone, hist=False, label = 'iPhone', color = 'green')\n",
    "ax1 = sns.distplot(df_trump_android, hist=False, label = 'Android', color = 'orange')\n",
    "ax.set_xlabel(\"Hour\")\n",
    "ax.set_ylabel(\"Fraction\")\n",
    "plt.show()"
   ]
  },
  {
   "cell_type": "markdown",
   "metadata": {},
   "source": [
    "# Task 3.6\n",
    "\n",
    "What time of the day the Android tweets were made by Trump himself? (eg: morning, late night etc)\n",
    "\n",
    "**Morning**\n",
    "    \n",
    "What time of the day the Android tweets were made by paid staff?\n",
    "\n",
    "**Afternoon**"
   ]
  },
  {
   "cell_type": "markdown",
   "metadata": {},
   "source": [
    "# Task 3.7 Device Analysis\n",
    "\n",
    "Let's now look at which device he has used over the entire time period of this dataset.\n",
    "\n",
    "To examine the distribution of dates we will convert the date to a fractional year that can be plotted as a distribution.\n",
    "\n",
    "(Code borrowed from https://stackoverflow.com/questions/6451655/python-how-to-convert-datetime-dates-to-decimal-years)\n"
   ]
  },
  {
   "cell_type": "code",
   "execution_count": 42,
   "metadata": {},
   "outputs": [
    {
     "data": {
      "image/png": "[encoded data removed]",
      "text/plain": [
       "<Figure size 864x576 with 1 Axes>"
      ]
     },
     "metadata": {
      "needs_background": "light"
     },
     "output_type": "display_data"
    }
   ],
   "source": [
    "import datetime\n",
    "def year_fraction(date):\n",
    "    start = datetime.date(date.year, 1, 1).toordinal()\n",
    "    year_length = datetime.date(date.year+1, 1, 1).toordinal() - start\n",
    "    return date.year + float(date.toordinal() - start) / year_length\n",
    "\n",
    "\n",
    "df_trump['year'] = df_trump['time'].apply(year_fraction)\n",
    "\n",
    "plt.figure(figsize=(12,8))\n",
    "df_trump_iphone1 = df_trump[(df_trump['source'] == 'Twitter for iPhone')]['year']\n",
    "df_trump_android1 = df_trump[(df_trump['source'] == 'Twitter for Android')]['year']\n",
    "ax = sns.distplot(df_trump_iphone1, hist=True, kde_kws={\"color\": \"green\", \"lw\": 3, \"label\": \"IPhone\"})\n",
    "ax1 = sns.distplot(df_trump_android1, hist=True, kde_kws={\"color\": \"orange\", \"lw\": 3, \"label\": \"Android\"},)\n",
    "ax.set_xlabel(\"Year\")\n",
    "ax.set_ylabel(\"Fraction\")\n",
    "\n",
    "import matplotlib.ticker as ticker\n",
    "x_ax = ax.axes.get_xaxis()\n",
    "x_ax.set_major_locator(ticker.MaxNLocator(integer=True)) \n",
    "\n",
    "plt.show()"
   ]
  },
  {
   "cell_type": "markdown",
   "metadata": {},
   "source": [
    "# PART 4 - Sentiment Analysis\n",
    "\n",
    "It turns out that we can use the words in Trump's tweets to calculate a measure of the sentiment of the tweet. For example, the sentence \"I love America!\" has positive sentiment, whereas the sentence \"I hate taxes!\" has a negative sentiment. In addition, some words have stronger positive / negative sentiment than others: \"I love America.\" is more positive than \"I like America.\"\n",
    "\n",
    "We will use the VADER (Valence Aware Dictionary and sEntiment Reasoner) lexicon to analyze the sentiment of Trump's tweets. VADER is a lexicon and rule-based sentiment analysis tool that is specifically attuned to sentiments expressed in social media which is great for our usage.\n",
    "\n",
    "The VADER lexicon gives the sentiment of individual words. Run the following cell to show the first few rows of the lexicon:\n"
   ]
  },
  {
   "cell_type": "code",
   "execution_count": 55,
   "metadata": {},
   "outputs": [
    {
     "name": "stdout",
     "output_type": "stream",
     "text": [
      "$:\t-1.5\t0.80623\t[-1, -1, -1, -1, -3, -1, -3, -1, -2, -1]\n",
      "%)\t-0.4\t1.0198\t[-1, 0, -1, 0, 0, -2, -1, 2, -1, 0]\n",
      "%-)\t-1.5\t1.43178\t[-2, 0, -2, -2, -1, 2, -2, -3, -2, -3]\n",
      "&-:\t-0.4\t1.42829\t[-3, -1, 0, 0, -1, -1, -1, 2, -1, 2]\n",
      "&:\t-0.7\t0.64031\t[0, -1, -1, -1, 1, -1, -1, -1, -1, -1]\n",
      "( '}{' )\t1.6\t0.66332\t[1, 2, 2, 1, 1, 2, 2, 1, 3, 1]\n",
      "(%\t-0.9\t0.9434\t[0, 0, 1, -1, -1, -1, -2, -2, -1, -2]\n",
      "('-:\t2.2\t1.16619\t[4, 1, 4, 3, 1, 2, 3, 1, 2, 1]\n",
      "(':\t2.3\t0.9\t[1, 3, 3, 2, 2, 4, 2, 3, 1, 2]\n",
      "((-:\t2.1\t0.53852\t[2, 2, 2, 1, 2, 3, 2, 2, 3, 2]\n",
      "\n"
     ]
    }
   ],
   "source": [
    "print(''.join(open(\"data/vader_lexicon.txt\").readlines()[:10]))"
   ]
  },
  {
   "cell_type": "markdown",
   "metadata": {},
   "source": [
    "# Task 4.1\n",
    "\n",
    "As you can see, the lexicon contains emojis too! The first column of the lexicon is the token, or the word itself. The second column is the polarity of the word, or how positive / negative it is.\n",
    "\n",
    "(How did they decide the polarities of these words? What are the other two columns in the lexicon? See the link above.)\n",
    "\n",
    "Read in the lexicon into a DataFrame called df_sent. The index of the DF should be the tokens in the lexicon. df_sent should have one column: polarity: The polarity of each token.\n"
   ]
  },
  {
   "cell_type": "code",
   "execution_count": 79,
   "metadata": {},
   "outputs": [
    {
     "data": {
      "text/html": [
       "<div>\n",
       "<style scoped>\n",
       "    .dataframe tbody tr th:only-of-type {\n",
       "        vertical-align: middle;\n",
       "    }\n",
       "\n",
       "    .dataframe tbody tr th {\n",
       "        vertical-align: top;\n",
       "    }\n",
       "\n",
       "    .dataframe thead th {\n",
       "        text-align: right;\n",
       "    }\n",
       "</style>\n",
       "<table border=\"1\" class=\"dataframe\">\n",
       "  <thead>\n",
       "    <tr style=\"text-align: right;\">\n",
       "      <th></th>\n",
       "      <th>polarity</th>\n",
       "    </tr>\n",
       "    <tr>\n",
       "      <th>token</th>\n",
       "      <th></th>\n",
       "    </tr>\n",
       "  </thead>\n",
       "  <tbody>\n",
       "    <tr>\n",
       "      <th>$:</th>\n",
       "      <td>-1.5</td>\n",
       "    </tr>\n",
       "    <tr>\n",
       "      <th>%)</th>\n",
       "      <td>-0.4</td>\n",
       "    </tr>\n",
       "    <tr>\n",
       "      <th>%-)</th>\n",
       "      <td>-1.5</td>\n",
       "    </tr>\n",
       "    <tr>\n",
       "      <th>&amp;-:</th>\n",
       "      <td>-0.4</td>\n",
       "    </tr>\n",
       "    <tr>\n",
       "      <th>&amp;:</th>\n",
       "      <td>-0.7</td>\n",
       "    </tr>\n",
       "    <tr>\n",
       "      <th>( '}{' )</th>\n",
       "      <td>1.6</td>\n",
       "    </tr>\n",
       "    <tr>\n",
       "      <th>(%</th>\n",
       "      <td>-0.9</td>\n",
       "    </tr>\n",
       "    <tr>\n",
       "      <th>('-:</th>\n",
       "      <td>2.2</td>\n",
       "    </tr>\n",
       "    <tr>\n",
       "      <th>(':</th>\n",
       "      <td>2.3</td>\n",
       "    </tr>\n",
       "    <tr>\n",
       "      <th>((-:</th>\n",
       "      <td>2.1</td>\n",
       "    </tr>\n",
       "    <tr>\n",
       "      <th>(*</th>\n",
       "      <td>1.1</td>\n",
       "    </tr>\n",
       "    <tr>\n",
       "      <th>(-%</th>\n",
       "      <td>-0.7</td>\n",
       "    </tr>\n",
       "    <tr>\n",
       "      <th>(-*</th>\n",
       "      <td>1.3</td>\n",
       "    </tr>\n",
       "    <tr>\n",
       "      <th>(-:</th>\n",
       "      <td>1.6</td>\n",
       "    </tr>\n",
       "    <tr>\n",
       "      <th>(-:0</th>\n",
       "      <td>2.8</td>\n",
       "    </tr>\n",
       "    <tr>\n",
       "      <th>(-:&lt;</th>\n",
       "      <td>-0.4</td>\n",
       "    </tr>\n",
       "    <tr>\n",
       "      <th>(-:o</th>\n",
       "      <td>1.5</td>\n",
       "    </tr>\n",
       "    <tr>\n",
       "      <th>(-:O</th>\n",
       "      <td>1.5</td>\n",
       "    </tr>\n",
       "    <tr>\n",
       "      <th>(-:{</th>\n",
       "      <td>-0.1</td>\n",
       "    </tr>\n",
       "    <tr>\n",
       "      <th>(-:|&gt;*</th>\n",
       "      <td>1.9</td>\n",
       "    </tr>\n",
       "    <tr>\n",
       "      <th>(-;</th>\n",
       "      <td>1.3</td>\n",
       "    </tr>\n",
       "    <tr>\n",
       "      <th>(-;|</th>\n",
       "      <td>2.1</td>\n",
       "    </tr>\n",
       "    <tr>\n",
       "      <th>(8</th>\n",
       "      <td>2.6</td>\n",
       "    </tr>\n",
       "    <tr>\n",
       "      <th>(:</th>\n",
       "      <td>2.2</td>\n",
       "    </tr>\n",
       "    <tr>\n",
       "      <th>(:0</th>\n",
       "      <td>2.4</td>\n",
       "    </tr>\n",
       "    <tr>\n",
       "      <th>(:&lt;</th>\n",
       "      <td>-0.2</td>\n",
       "    </tr>\n",
       "    <tr>\n",
       "      <th>(:o</th>\n",
       "      <td>2.5</td>\n",
       "    </tr>\n",
       "    <tr>\n",
       "      <th>(:O</th>\n",
       "      <td>2.5</td>\n",
       "    </tr>\n",
       "    <tr>\n",
       "      <th>(;</th>\n",
       "      <td>1.1</td>\n",
       "    </tr>\n",
       "    <tr>\n",
       "      <th>(;&lt;</th>\n",
       "      <td>0.3</td>\n",
       "    </tr>\n",
       "    <tr>\n",
       "      <th>...</th>\n",
       "      <td>...</td>\n",
       "    </tr>\n",
       "    <tr>\n",
       "      <th>xd</th>\n",
       "      <td>2.8</td>\n",
       "    </tr>\n",
       "    <tr>\n",
       "      <th>xp</th>\n",
       "      <td>1.6</td>\n",
       "    </tr>\n",
       "    <tr>\n",
       "      <th>yay</th>\n",
       "      <td>2.4</td>\n",
       "    </tr>\n",
       "    <tr>\n",
       "      <th>yeah</th>\n",
       "      <td>1.2</td>\n",
       "    </tr>\n",
       "    <tr>\n",
       "      <th>yearning</th>\n",
       "      <td>0.5</td>\n",
       "    </tr>\n",
       "    <tr>\n",
       "      <th>yeees</th>\n",
       "      <td>1.7</td>\n",
       "    </tr>\n",
       "    <tr>\n",
       "      <th>yep</th>\n",
       "      <td>1.2</td>\n",
       "    </tr>\n",
       "    <tr>\n",
       "      <th>yes</th>\n",
       "      <td>1.7</td>\n",
       "    </tr>\n",
       "    <tr>\n",
       "      <th>youthful</th>\n",
       "      <td>1.3</td>\n",
       "    </tr>\n",
       "    <tr>\n",
       "      <th>yucky</th>\n",
       "      <td>-1.8</td>\n",
       "    </tr>\n",
       "    <tr>\n",
       "      <th>yummy</th>\n",
       "      <td>2.4</td>\n",
       "    </tr>\n",
       "    <tr>\n",
       "      <th>zealot</th>\n",
       "      <td>-1.9</td>\n",
       "    </tr>\n",
       "    <tr>\n",
       "      <th>zealots</th>\n",
       "      <td>-0.8</td>\n",
       "    </tr>\n",
       "    <tr>\n",
       "      <th>zealous</th>\n",
       "      <td>0.5</td>\n",
       "    </tr>\n",
       "    <tr>\n",
       "      <th>{:</th>\n",
       "      <td>1.8</td>\n",
       "    </tr>\n",
       "    <tr>\n",
       "      <th>|-0</th>\n",
       "      <td>-1.2</td>\n",
       "    </tr>\n",
       "    <tr>\n",
       "      <th>|-:</th>\n",
       "      <td>-0.8</td>\n",
       "    </tr>\n",
       "    <tr>\n",
       "      <th>|-:&gt;</th>\n",
       "      <td>-1.6</td>\n",
       "    </tr>\n",
       "    <tr>\n",
       "      <th>|-o</th>\n",
       "      <td>-1.2</td>\n",
       "    </tr>\n",
       "    <tr>\n",
       "      <th>|:</th>\n",
       "      <td>-0.5</td>\n",
       "    </tr>\n",
       "    <tr>\n",
       "      <th>|;-)</th>\n",
       "      <td>2.2</td>\n",
       "    </tr>\n",
       "    <tr>\n",
       "      <th>|=</th>\n",
       "      <td>-0.4</td>\n",
       "    </tr>\n",
       "    <tr>\n",
       "      <th>|^:</th>\n",
       "      <td>-1.1</td>\n",
       "    </tr>\n",
       "    <tr>\n",
       "      <th>|o:</th>\n",
       "      <td>-0.9</td>\n",
       "    </tr>\n",
       "    <tr>\n",
       "      <th>||-:</th>\n",
       "      <td>-2.3</td>\n",
       "    </tr>\n",
       "    <tr>\n",
       "      <th>}:</th>\n",
       "      <td>-2.1</td>\n",
       "    </tr>\n",
       "    <tr>\n",
       "      <th>}:(</th>\n",
       "      <td>-2.0</td>\n",
       "    </tr>\n",
       "    <tr>\n",
       "      <th>}:)</th>\n",
       "      <td>0.4</td>\n",
       "    </tr>\n",
       "    <tr>\n",
       "      <th>}:-(</th>\n",
       "      <td>-2.1</td>\n",
       "    </tr>\n",
       "    <tr>\n",
       "      <th>}:-)</th>\n",
       "      <td>0.3</td>\n",
       "    </tr>\n",
       "  </tbody>\n",
       "</table>\n",
       "<p>7517 rows × 1 columns</p>\n",
       "</div>"
      ],
      "text/plain": [
       "          polarity\n",
       "token             \n",
       "$:            -1.5\n",
       "%)            -0.4\n",
       "%-)           -1.5\n",
       "&-:           -0.4\n",
       "&:            -0.7\n",
       "( '}{' )       1.6\n",
       "(%            -0.9\n",
       "('-:           2.2\n",
       "(':            2.3\n",
       "((-:           2.1\n",
       "(*             1.1\n",
       "(-%           -0.7\n",
       "(-*            1.3\n",
       "(-:            1.6\n",
       "(-:0           2.8\n",
       "(-:<          -0.4\n",
       "(-:o           1.5\n",
       "(-:O           1.5\n",
       "(-:{          -0.1\n",
       "(-:|>*         1.9\n",
       "(-;            1.3\n",
       "(-;|           2.1\n",
       "(8             2.6\n",
       "(:             2.2\n",
       "(:0            2.4\n",
       "(:<           -0.2\n",
       "(:o            2.5\n",
       "(:O            2.5\n",
       "(;             1.1\n",
       "(;<            0.3\n",
       "...            ...\n",
       "xd             2.8\n",
       "xp             1.6\n",
       "yay            2.4\n",
       "yeah           1.2\n",
       "yearning       0.5\n",
       "yeees          1.7\n",
       "yep            1.2\n",
       "yes            1.7\n",
       "youthful       1.3\n",
       "yucky         -1.8\n",
       "yummy          2.4\n",
       "zealot        -1.9\n",
       "zealots       -0.8\n",
       "zealous        0.5\n",
       "{:             1.8\n",
       "|-0           -1.2\n",
       "|-:           -0.8\n",
       "|-:>          -1.6\n",
       "|-o           -1.2\n",
       "|:            -0.5\n",
       "|;-)           2.2\n",
       "|=            -0.4\n",
       "|^:           -1.1\n",
       "|o:           -0.9\n",
       "||-:          -2.3\n",
       "}:            -2.1\n",
       "}:(           -2.0\n",
       "}:)            0.4\n",
       "}:-(          -2.1\n",
       "}:-)           0.3\n",
       "\n",
       "[7517 rows x 1 columns]"
      ]
     },
     "execution_count": 79,
     "metadata": {},
     "output_type": "execute_result"
    }
   ],
   "source": [
    "# data = pd.read_csv(\"data/vader_lexicon.txt\", sep=\" \", header=None)\n",
    "data=pd.read_csv(\"data/vader_lexicon.txt\",delimiter=\"\\t\", header=None)\n",
    "data.columns = [\"token\", \"polarity\", \"b\", \"a\"]\n",
    "df_sent = data.drop(['a', 'b'], axis=1)\n",
    "df_sent.set_index('token')"
   ]
  },
  {
   "cell_type": "code",
   "execution_count": 84,
   "metadata": {},
   "outputs": [
    {
     "data": {
      "text/plain": [
       "RangeIndex(start=5000, stop=5005, step=1)"
      ]
     },
     "execution_count": 84,
     "metadata": {},
     "output_type": "execute_result"
    }
   ],
   "source": [
    "df_sent.index[5000:5005]"
   ]
  },
  {
   "cell_type": "code",
   "execution_count": 83,
   "metadata": {},
   "outputs": [
    {
     "ename": "AssertionError",
     "evalue": "",
     "output_type": "error",
     "traceback": [
      "\u001b[0;31m---------------------------------------------------------------------------\u001b[0m",
      "\u001b[0;31mAssertionError\u001b[0m                            Traceback (most recent call last)",
      "\u001b[0;32m<ipython-input-83-fb9158783071>\u001b[0m in \u001b[0;36m<module>\u001b[0;34m\u001b[0m\n\u001b[1;32m      1\u001b[0m \u001b[0;32massert\u001b[0m \u001b[0misinstance\u001b[0m\u001b[0;34m(\u001b[0m\u001b[0mdf_sent\u001b[0m\u001b[0;34m,\u001b[0m \u001b[0mpd\u001b[0m\u001b[0;34m.\u001b[0m\u001b[0mDataFrame\u001b[0m\u001b[0;34m)\u001b[0m\u001b[0;34m\u001b[0m\u001b[0;34m\u001b[0m\u001b[0m\n\u001b[1;32m      2\u001b[0m \u001b[0;32massert\u001b[0m \u001b[0mdf_sent\u001b[0m\u001b[0;34m.\u001b[0m\u001b[0mshape\u001b[0m \u001b[0;34m==\u001b[0m \u001b[0;34m(\u001b[0m\u001b[0;36m7517\u001b[0m\u001b[0;34m,\u001b[0m \u001b[0;36m2\u001b[0m\u001b[0;34m)\u001b[0m\u001b[0;34m\u001b[0m\u001b[0;34m\u001b[0m\u001b[0m\n\u001b[0;32m----> 3\u001b[0;31m \u001b[0;32massert\u001b[0m \u001b[0mlist\u001b[0m\u001b[0;34m(\u001b[0m\u001b[0mdf_sent\u001b[0m\u001b[0;34m.\u001b[0m\u001b[0mindex\u001b[0m\u001b[0;34m[\u001b[0m\u001b[0;36m5000\u001b[0m\u001b[0;34m:\u001b[0m\u001b[0;36m5005\u001b[0m\u001b[0;34m]\u001b[0m\u001b[0;34m)\u001b[0m \u001b[0;34m==\u001b[0m \u001b[0;34m[\u001b[0m\u001b[0;34m'paranoids'\u001b[0m\u001b[0;34m,\u001b[0m \u001b[0;34m'pardon'\u001b[0m\u001b[0;34m,\u001b[0m \u001b[0;34m'pardoned'\u001b[0m\u001b[0;34m,\u001b[0m \u001b[0;34m'pardoning'\u001b[0m\u001b[0;34m,\u001b[0m \u001b[0;34m'pardons'\u001b[0m\u001b[0;34m]\u001b[0m\u001b[0;34m\u001b[0m\u001b[0;34m\u001b[0m\u001b[0m\n\u001b[0m\u001b[1;32m      4\u001b[0m \u001b[0;32massert\u001b[0m \u001b[0mnp\u001b[0m\u001b[0;34m.\u001b[0m\u001b[0mallclose\u001b[0m\u001b[0;34m(\u001b[0m\u001b[0mdf_sent\u001b[0m\u001b[0;34m[\u001b[0m\u001b[0;34m'polarity'\u001b[0m\u001b[0;34m]\u001b[0m\u001b[0;34m.\u001b[0m\u001b[0mhead\u001b[0m\u001b[0;34m(\u001b[0m\u001b[0;34m)\u001b[0m\u001b[0;34m,\u001b[0m \u001b[0;34m[\u001b[0m\u001b[0;34m-\u001b[0m\u001b[0;36m1.5\u001b[0m\u001b[0;34m,\u001b[0m \u001b[0;34m-\u001b[0m\u001b[0;36m0.4\u001b[0m\u001b[0;34m,\u001b[0m \u001b[0;34m-\u001b[0m\u001b[0;36m1.5\u001b[0m\u001b[0;34m,\u001b[0m \u001b[0;34m-\u001b[0m\u001b[0;36m0.4\u001b[0m\u001b[0;34m,\u001b[0m \u001b[0;34m-\u001b[0m\u001b[0;36m0.7\u001b[0m\u001b[0;34m]\u001b[0m\u001b[0;34m)\u001b[0m\u001b[0;34m\u001b[0m\u001b[0;34m\u001b[0m\u001b[0m\n",
      "\u001b[0;31mAssertionError\u001b[0m: "
     ]
    }
   ],
   "source": [
    "assert isinstance(df_sent, pd.DataFrame)\n",
    "assert df_sent.shape == (7517, 2)\n",
    "assert list(df_sent.index[5000:5005]) == ['paranoids', 'pardon', 'pardoned', 'pardoning', 'pardons']\n",
    "assert np.allclose(df_sent['polarity'].head(), [-1.5, -0.4, -1.5, -0.4, -0.7])"
   ]
  },
  {
   "cell_type": "code",
   "execution_count": null,
   "metadata": {},
   "outputs": [],
   "source": []
  }
 ],
 "metadata": {
  "kernelspec": {
   "display_name": "Python 3",
   "language": "python",
   "name": "python3"
  },
  "language_info": {
   "codemirror_mode": {
    "name": "ipython",
    "version": 3
   },
   "file_extension": ".py",
   "mimetype": "text/x-python",
   "name": "python",
   "nbconvert_exporter": "python",
   "pygments_lexer": "ipython3",
   "version": "3.6.8"
  }
 },
 "nbformat": 4,
 "nbformat_minor": 2
}
