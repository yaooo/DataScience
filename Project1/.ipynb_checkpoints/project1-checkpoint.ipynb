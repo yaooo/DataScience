{
 "cells": [
  {
   "cell_type": "markdown",
   "metadata": {},
   "source": [
    "# Set up"
   ]
  },
  {
   "cell_type": "code",
   "execution_count": 1,
   "metadata": {},
   "outputs": [],
   "source": [
    "# Run this cell to set up your notebook\n",
    "import csv\n",
    "import numpy as np\n",
    "import pandas as pd\n",
    "import matplotlib.pyplot as plt\n",
    "import zipfile\n",
    "import json\n",
    "\n",
    "# Ensure that Pandas shows at least 280 characters in columns, so we can see full tweets\n",
    "pd.set_option('max_colwidth', 280)\n",
    "\n",
    "%matplotlib inline\n",
    "plt.style.use('fivethirtyeight')\n",
    "import seaborn as sns\n",
    "sns.set()\n",
    "sns.set_context(\"talk\")\n",
    "import re"
   ]
  },
  {
   "cell_type": "code",
   "execution_count": 2,
   "metadata": {},
   "outputs": [],
   "source": [
    "## Make sure you have set up tweepy if you are working locally.\n",
    "# https://www.pythoncentral.io/introduction-to-tweepy-twitter-for-python/\n",
    "# After set up, the following should run:\n",
    "import tweepy"
   ]
  },
  {
   "cell_type": "code",
   "execution_count": 3,
   "metadata": {},
   "outputs": [],
   "source": [
    "import json\n",
    "key_file = 'keys.json'\n",
    "# Loading your keys from keys.json (which you should have filled\n",
    "# in in question 1):\n",
    "with open(key_file) as f:\n",
    "    keys = json.load(f)\n",
    "# if you print or view the contents of keys be sure to delete the cell!"
   ]
  },
  {
   "cell_type": "code",
   "execution_count": 4,
   "metadata": {},
   "outputs": [
    {
     "name": "stdout",
     "output_type": "stream",
     "text": [
      "Your username is: bigbroyaoyaoyao\n"
     ]
    }
   ],
   "source": [
    "import tweepy\n",
    "from tweepy import TweepError\n",
    "import logging\n",
    "\n",
    "try:\n",
    "    auth = tweepy.OAuthHandler(keys[\"consumer_key\"], keys[\"consumer_secret\"])\n",
    "    auth.set_access_token(keys[\"access_token\"], keys[\"access_token_secret\"])\n",
    "    api = tweepy.API(auth)\n",
    "    print(\"Your username is:\", api.auth.get_username())\n",
    "except TweepError as e:\n",
    "    logging.warning(\"There was a Tweepy error. Double check your API keys and try again.\")\n",
    "    logging.warning(e)"
   ]
  },
  {
   "cell_type": "code",
   "execution_count": 5,
   "metadata": {},
   "outputs": [],
   "source": [
    "from pathlib import Path\n",
    "import json\n",
    "\n",
    "ds_tweets_save_path = \"data/RutgersU_recent_tweets.json\"   # need to get this file\n",
    "\n",
    "# Guarding against attempts to download the data multiple\n",
    "# times:\n",
    "if not Path(ds_tweets_save_path).is_file():\n",
    "    # Getting as many recent tweets by @RutgersU as Twitter will let us have.\n",
    "    # We use tweet_mode='extended' so that Twitter gives us full 280 character tweets.\n",
    "    # This was a change introduced in September 2017.\n",
    "    \n",
    "    # The tweepy Cursor API actually returns \"sophisticated\" Status objects but we \n",
    "    # will use the basic Python dictionaries stored in the _json field. \n",
    "    example_tweets = [t._json for t in tweepy.Cursor(api.user_timeline, id=\"RutgersU\", \n",
    "                                             tweet_mode='extended').items()]\n",
    "    \n",
    "    # Saving the tweets to a json file on disk for future analysis\n",
    "    with open(ds_tweets_save_path, \"w\") as f:        \n",
    "        json.dump(example_tweets, f)\n",
    "\n",
    "# Re-loading the json file:\n",
    "with open(ds_tweets_save_path, \"r\") as f:\n",
    "    example_tweets = json.load(f)"
   ]
  },
  {
   "cell_type": "code",
   "execution_count": 6,
   "metadata": {},
   "outputs": [
    {
     "name": "stdout",
     "output_type": "stream",
     "text": [
      "{'contributors': None,\n",
      " 'coordinates': None,\n",
      " 'created_at': 'Fri Mar 01 18:53:50 +0000 2019',\n",
      " 'display_text_range': [0, 279],\n",
      " 'entities': {'hashtags': [],\n",
      "              'media': [{'display_url': 'pic.twitter.com/cnEOnFuyfV',\n",
      "                         'expanded_url': 'https://twitter.com/RutgersU/status/1101556166411329538/photo/1',\n",
      "                         'id': 1101553607386763266,\n",
      "                         'id_str': '1101553607386763266',\n",
      "                         'indices': [280, 303],\n",
      "                         'media_url': 'http://pbs.twimg.com/media/D0mBK21WkAIzilu.jpg',\n",
      "                         'media_url_https': 'https://pbs.twimg.com/media/D0mBK21WkAIzilu.jpg',\n",
      "                         'sizes': {'large': {'h': 1253,\n",
      "                                             'resize': 'fit',\n",
      "                                             'w': 1080},\n",
      "                                   'medium': {'h': 1200,\n",
      "                                              'resize': 'fit',\n",
      "                                              'w': 1034},\n",
      "                                   'small': {'h': 680,\n",
      "                                             'resize': 'fit',\n",
      "                                             'w': 586},\n",
      "                                   'thumb': {'h': 150,\n",
      "                                             'resize': 'crop',\n",
      "                                             'w': 150}},\n",
      "                         'type': 'photo',\n",
      "                         'url': 'https://t.co/cnEOnFuyfV'}],\n",
      "              'symbols': [],\n",
      "              'urls': [],\n",
      "              'user_mentions': []},\n",
      " 'extended_entities': {'media': [{'display_url': 'pic.twitter.com/cnEOnFuyfV',\n",
      "                                  'expanded_url': 'https://twitter.com/RutgersU/status/1101556166411329538/photo/1',\n",
      "                                  'id': 1101553607386763266,\n",
      "                                  'id_str': '1101553607386763266',\n",
      "                                  'indices': [280, 303],\n",
      "                                  'media_url': 'http://pbs.twimg.com/media/D0mBK21WkAIzilu.jpg',\n",
      "                                  'media_url_https': 'https://pbs.twimg.com/media/D0mBK21WkAIzilu.jpg',\n",
      "                                  'sizes': {'large': {'h': 1253,\n",
      "                                                      'resize': 'fit',\n",
      "                                                      'w': 1080},\n",
      "                                            'medium': {'h': 1200,\n",
      "                                                       'resize': 'fit',\n",
      "                                                       'w': 1034},\n",
      "                                            'small': {'h': 680,\n",
      "                                                      'resize': 'fit',\n",
      "                                                      'w': 586},\n",
      "                                            'thumb': {'h': 150,\n",
      "                                                      'resize': 'crop',\n",
      "                                                      'w': 150}},\n",
      "                                  'type': 'photo',\n",
      "                                  'url': 'https://t.co/cnEOnFuyfV'}]},\n",
      " 'favorite_count': 11,\n",
      " 'favorited': False,\n",
      " 'full_text': 'One of the women who inspires us is Cheryl Clarke, a poet and '\n",
      "              'feminist scholar. In 1992, she became the founding director of '\n",
      "              'the Office of Diverse Community Affairs and Lesbian and Gay '\n",
      "              'Concerns, known today as the Rutgers Center for Social Justice '\n",
      "              'Education and LGBT Communities. https://t.co/cnEOnFuyfV',\n",
      " 'geo': None,\n",
      " 'id': 1101556166411329538,\n",
      " 'id_str': '1101556166411329538',\n",
      " 'in_reply_to_screen_name': 'RutgersU',\n",
      " 'in_reply_to_status_id': 1101556165794779136,\n",
      " 'in_reply_to_status_id_str': '1101556165794779136',\n",
      " 'in_reply_to_user_id': 19272796,\n",
      " 'in_reply_to_user_id_str': '19272796',\n",
      " 'is_quote_status': False,\n",
      " 'lang': 'en',\n",
      " 'place': None,\n",
      " 'possibly_sensitive': False,\n",
      " 'retweet_count': 4,\n",
      " 'retweeted': False,\n",
      " 'source': '<a href=\"http://twitter.com\" rel=\"nofollow\">Twitter Web Client</a>',\n",
      " 'truncated': False,\n",
      " 'user': {'contributors_enabled': False,\n",
      "          'created_at': 'Wed Jan 21 02:57:47 +0000 2009',\n",
      "          'default_profile': False,\n",
      "          'default_profile_image': False,\n",
      "          'description': 'Rutgers, The State University of New Jersey, is a '\n",
      "                         'leading public research university. Follow us for '\n",
      "                         'all things Rutgers.',\n",
      "          'entities': {'description': {'urls': []},\n",
      "                       'url': {'urls': [{'display_url': 'rutgers.edu',\n",
      "                                         'expanded_url': 'http://www.rutgers.edu',\n",
      "                                         'indices': [0, 22],\n",
      "                                         'url': 'http://t.co/stAPJIzh8b'}]}},\n",
      "          'favourites_count': 3639,\n",
      "          'follow_request_sent': False,\n",
      "          'followers_count': 130302,\n",
      "          'following': False,\n",
      "          'friends_count': 574,\n",
      "          'geo_enabled': True,\n",
      "          'has_extended_profile': False,\n",
      "          'id': 19272796,\n",
      "          'id_str': '19272796',\n",
      "          'is_translation_enabled': False,\n",
      "          'is_translator': False,\n",
      "          'lang': 'en',\n",
      "          'listed_count': 826,\n",
      "          'location': 'New Jersey',\n",
      "          'name': 'Rutgers University',\n",
      "          'notifications': False,\n",
      "          'profile_background_color': 'C7141C',\n",
      "          'profile_background_image_url': 'http://abs.twimg.com/images/themes/theme15/bg.png',\n",
      "          'profile_background_image_url_https': 'https://abs.twimg.com/images/themes/theme15/bg.png',\n",
      "          'profile_background_tile': False,\n",
      "          'profile_banner_url': 'https://pbs.twimg.com/profile_banners/19272796/1494779773',\n",
      "          'profile_image_url': 'http://pbs.twimg.com/profile_images/809450270375772160/rWmyBIig_normal.jpg',\n",
      "          'profile_image_url_https': 'https://pbs.twimg.com/profile_images/809450270375772160/rWmyBIig_normal.jpg',\n",
      "          'profile_link_color': '0084B4',\n",
      "          'profile_sidebar_border_color': '000205',\n",
      "          'profile_sidebar_fill_color': 'C0DFEC',\n",
      "          'profile_text_color': '333333',\n",
      "          'profile_use_background_image': False,\n",
      "          'protected': False,\n",
      "          'screen_name': 'RutgersU',\n",
      "          'statuses_count': 14235,\n",
      "          'time_zone': None,\n",
      "          'translator_type': 'none',\n",
      "          'url': 'http://t.co/stAPJIzh8b',\n",
      "          'utc_offset': None,\n",
      "          'verified': True}}\n"
     ]
    }
   ],
   "source": [
    "# Looking at one tweet object, which has type Status: \n",
    "from pprint import pprint # ...to get a more easily-readable view.\n",
    "pprint(example_tweets[2])"
   ]
  },
  {
   "cell_type": "markdown",
   "metadata": {},
   "source": [
    "# Task 2.1\n",
    "Re-factor the above code fragment into reusable snippets below. You should not need to make major modifications; this is mostly an exercise in understanding the above code block."
   ]
  },
  {
   "cell_type": "code",
   "execution_count": 7,
   "metadata": {},
   "outputs": [],
   "source": [
    "def load_keys(path):\n",
    "    \"\"\"Loads your Twitter authentication keys from a file on disk.\n",
    "    \n",
    "    Args:\n",
    "        path (str): The path to your key file.  The file should\n",
    "          be in JSON format and look like this (but filled in):\n",
    "            {\n",
    "                \"consumer_key\": \"<your Consumer Key here>\",\n",
    "                \"consumer_secret\":  \"<your Consumer Secret here>\",\n",
    "                \"access_token\": \"<your Access Token here>\",\n",
    "                \"access_token_secret\": \"<your Access Token Secret here>\"\n",
    "            }\n",
    "    \n",
    "    Returns:\n",
    "        dict: A dictionary mapping key names (like \"consumer_key\") to\n",
    "          key values.\"\"\"\n",
    "    \n",
    "    if not Path(ds_tweets_save_path).is_file():\n",
    "        print(\"Not file found\")\n",
    "        return {}\n",
    "    else:\n",
    "        with open(path) as f:\n",
    "            return json.load(f)"
   ]
  },
  {
   "cell_type": "code",
   "execution_count": 8,
   "metadata": {},
   "outputs": [],
   "source": [
    "def download_recent_tweets_by_user(user_account_name, keys):\n",
    "    \"\"\"Downloads tweets by one Twitter user.\n",
    "\n",
    "    Args:\n",
    "        user_account_name (str): The name of the Twitter account\n",
    "          whose tweets will be downloaded.\n",
    "        keys (dict): A Python dictionary with Twitter authentication\n",
    "          keys (strings), like this (but filled in):\n",
    "            {\n",
    "                \"consumer_key\": \"<your Consumer Key here>\",\n",
    "                \"consumer_secret\":  \"<your Consumer Secret here>\",\n",
    "                \"access_token\": \"<your Access Token here>\",\n",
    "                \"access_token_secret\": \"<your Access Token Secret here>\"\n",
    "            }\n",
    "\n",
    "    Returns:\n",
    "        list: A list of Dictonary objects, each representing one tweet.\"\"\"\n",
    "    \n",
    "    import tweepy\n",
    "    from tweepy import TweepError\n",
    "    import logging\n",
    "\n",
    "    # Authenticating:\n",
    "    try:\n",
    "        auth = tweepy.OAuthHandler(keys[\"consumer_key\"], keys[\"consumer_secret\"])\n",
    "        auth.set_access_token(keys[\"access_token\"], keys[\"access_token_secret\"])\n",
    "        api = tweepy.API(auth)\n",
    "        print(\"Succeed!!!\")\n",
    "        \n",
    "        # Download the recent tweets from one user\n",
    "        from pathlib import Path\n",
    "        import json\n",
    "        ds_tweets_save_path = \"data/\" +user_account_name + \"_recent_tweets.json\"\n",
    "        if not Path(ds_tweets_save_path).is_file():\n",
    "            example_tweets = [t._json for t in tweepy.Cursor(api.user_timeline, id=user_account_name, \n",
    "                                                     tweet_mode='extended').items()]\n",
    "            with open(ds_tweets_save_path, \"w\") as f:        \n",
    "                json.dump(example_tweets, f)\n",
    "                \n",
    "        with open(ds_tweets_save_path, \"r\") as f:\n",
    "                return json.load(f)\n",
    "        \n",
    "    except TweepError as e:\n",
    "        logging.warning(\"There was a Tweepy error. Double check your API keys and try again.\")\n",
    "        logging.warning(e)"
   ]
  },
  {
   "cell_type": "code",
   "execution_count": 9,
   "metadata": {},
   "outputs": [],
   "source": [
    "def load_tweets(path):\n",
    "    \"\"\"Loads tweets that have previously been saved.\n",
    "    \n",
    "    Calling load_tweets(path) after save_tweets(tweets, path)\n",
    "    will produce the same list of tweets.\n",
    "    \n",
    "    Args:\n",
    "        path (str): The place where the tweets were be saved.\n",
    "\n",
    "    Returns:\n",
    "        list: A list of Dictionary objects, each representing one tweet.\"\"\"\n",
    "    if not Path(ds_tweets_save_path).is_file():\n",
    "        print(\"Cannot find this file\")\n",
    "    else:\n",
    "        with open(path, \"r\") as f:\n",
    "            return json.load(f) "
   ]
  },
  {
   "cell_type": "code",
   "execution_count": 10,
   "metadata": {},
   "outputs": [],
   "source": [
    "def get_tweets_with_cache(user_account_name, keys_path):\n",
    "    \"\"\"Get recent tweets from one user, loading from a disk cache if available.\n",
    "    \n",
    "    The first time you call this function, it will download tweets by\n",
    "    a user.  Subsequent calls will not re-download the tweets; instead\n",
    "    they'll load the tweets from a save file in your local filesystem.\n",
    "    All this is done using the functions you defined in the previous cell.\n",
    "    This has benefits and drawbacks that often appear when you cache data:\n",
    "    \n",
    "    +: Using this function will prevent extraneous usage of the Twitter API.\n",
    "    +: You will get your data much faster after the first time it's called.\n",
    "    -: If you really want to re-download the tweets (say, to get newer ones,\n",
    "       or because you screwed up something in the previous cell and your\n",
    "       tweets aren't what you wanted), you'll have to find the save file\n",
    "       (which will look like <something>_recent_tweets.pkl) and delete it.\n",
    "    \n",
    "    Args:\n",
    "        user_account_name (str): The Twitter handle of a user, without the @.\n",
    "        keys_path (str): The path to a JSON keys file in your filesystem.\n",
    "    \"\"\"\n",
    "    \n",
    "    return download_recent_tweets_by_user(user_account_name, keys_path)"
   ]
  },
  {
   "cell_type": "markdown",
   "metadata": {},
   "source": [
    "## Testing the above methods\n",
    "If everything was implemented correctly you should be able to obtain roughly the last 3000 tweets by the realdonaldtrump. (This may take a few minutes)\n"
   ]
  },
  {
   "cell_type": "code",
   "execution_count": 11,
   "metadata": {},
   "outputs": [
    {
     "name": "stdout",
     "output_type": "stream",
     "text": [
      "Succeed!!!\n",
      "Number of tweets downloaded: 3204\n",
      "Number of tweets(2016-2017): 6830\n"
     ]
    }
   ],
   "source": [
    "# When you are done, run this cell to load @realdonaldtrump's tweets.\n",
    "# Note the function get_tweets_with_cache.  You may find it useful\n",
    "# later.\n",
    "key = load_keys(key_file)\n",
    "trump_tweets = get_tweets_with_cache(\"realdonaldtrump\", key)\n",
    "print(\"Number of tweets downloaded:\", len(trump_tweets))\n",
    "\n",
    "\n",
    "# Load the old_tweet given\n",
    "oldest_tweet = load_tweets(\"data/2016-2017.json\")\n",
    "print(\"Number of tweets(2016-2017):\", len(oldest_tweet))\n"
   ]
  },
  {
   "cell_type": "markdown",
   "metadata": {},
   "source": [
    "# Task 2.1(alternate)\n",
    "\n",
    "This alternate starting point is here for those of you who have trouble getting a Twitter developer account. You should only use this if Twitter has rejected your application or if they have gone silent on you for at least a day."
   ]
  },
  {
   "cell_type": "markdown",
   "metadata": {},
   "source": [
    "<font color='red' >The code below does not work because the URL is not valid</font>\n"
   ]
  },
  {
   "cell_type": "code",
   "execution_count": 12,
   "metadata": {
    "scrolled": true
   },
   "outputs": [],
   "source": [
    "# Download the dataset if cannot get the developer access\n",
    "\n",
    "### USE \"ctrl/cmd\" + \"/\" to comment/uncomment the code below ###\n",
    "\n",
    "# from utils import fetch_and_cache\n",
    "\n",
    "# # if the download is not working, you can find the file in Canvas ==> files\n",
    "# data_url = 'https://rutgers.instructure.com/courses/21255/files/4456420/download?download_frd=1'\n",
    "# file_name = 'realdonaldtrump_old_tweets.json'\n",
    "# dest_path = fetch_and_cache(data_url=data_url, file=file_name)\n",
    "# print(dest_path)\n",
    "# def load_tweets(path):\n",
    "\n",
    "#     print(f'Located at {dest_path}')\n",
    "#     with open(path, \"rb\") as f:\n",
    "#         import json\n",
    "#         return json.load(f)\n",
    "\n",
    "# trump_tweets = load_tweets(dest_path)\n",
    "# assert 2000 <= len(trump_tweets) <= 4000"
   ]
  },
  {
   "cell_type": "markdown",
   "metadata": {},
   "source": [
    "# Task 2.2\n",
    "\n",
    "Find the number of the month of the oldest tweet."
   ]
  },
  {
   "cell_type": "code",
   "execution_count": 13,
   "metadata": {},
   "outputs": [
    {
     "name": "stdout",
     "output_type": "stream",
     "text": [
      "There are 709 tweets in January\n"
     ]
    }
   ],
   "source": [
    "# Enter the number of the month of the oldest tweet (e.g. 1 for January)\n",
    "oldest_month = 1\n",
    "\n",
    "### BEGIN SOLUTION\n",
    "import calendar\n",
    "month_abbr = dict((k,v) for k,v in enumerate(calendar.month_abbr))\n",
    "\n",
    "selected_month = month_abbr[oldest_month]\n",
    "\n",
    "count = 0\n",
    "for i in oldest_tweet:\n",
    "    date = i['created_at'].split()\n",
    "    if selected_month in date:\n",
    "        count+=1\n",
    "print(\"There are\", count , \"tweets in\", calendar.month_name [list(calendar.month_abbr).index(selected_month)])\n",
    "\n",
    "### END SOLUTION\n"
   ]
  },
  {
   "cell_type": "markdown",
   "metadata": {},
   "source": [
    "# PART 3 Twitter Source Analysis¶"
   ]
  },
  {
   "cell_type": "code",
   "execution_count": 14,
   "metadata": {},
   "outputs": [
    {
     "name": "stdout",
     "output_type": "stream",
     "text": [
      "Total length before combining two lists： 13248\n",
      "Total length after combining two lists： 11479\n"
     ]
    }
   ],
   "source": [
    "# merge two json files\n",
    "tweets_2018_2019 = load_tweets('data/realdonaldtrump_old_tweets.json')\n",
    "\n",
    "mylist = trump_tweets.copy()+(oldest_tweet).copy() + tweets_2018_2019\n",
    "unique_list = list({v['id']:v for v in mylist}.values())\n",
    "print(\"Total length before combining two lists：\", len(trump_tweets)+len(oldest_tweet)+len(tweets_2018_2019))\n",
    "print(\"Total length after combining two lists：\", len(unique_list))\n",
    "\n",
    "all_tweets = unique_list"
   ]
  },
  {
   "cell_type": "code",
   "execution_count": 15,
   "metadata": {},
   "outputs": [],
   "source": [
    "# rename all text to full_text\n",
    "import os\n",
    "import re\n",
    "\n",
    "def cleanhtml(raw_html):\n",
    "    cleanr = re.compile('<.*?>')\n",
    "    cleantext = re.sub(cleanr, '', raw_html)\n",
    "    return cleantext\n",
    "\n",
    "for i in all_tweets:\n",
    "    if 'full_text' in i:\n",
    "        i['text'] = i.pop('full_text')\n",
    "    if i['source'].startswith('<'):\n",
    "        i['source'] = cleanhtml(i['source'])\n",
    "    if 'id' in i:\n",
    "        i['ID'] = i.pop('id')\n",
    "    if 'created_at' in i:\n",
    "        i['time'] = i.pop('created_at')\n",
    "\n",
    "# Create a temp file for storing all tweets\n",
    "temp_file = 'data/all_tweets.json'\n",
    "\n",
    "if os.path.exists(temp_file):\n",
    "    os.remove(temp_file)   \n",
    "with open(temp_file, 'w') as outfile:\n",
    "    json.dump(all_tweets, outfile)\n",
    "\n",
    "#ID --> 'id'\n",
    "#time --> 'created_at'\n",
    "#text --> 'full_text' or 'text'\n",
    "#source --> 'source'\n",
    "#retweet_count --> 'retweet_count'\n",
    "\n",
    "# Load the first sheet of the JSON file into a data frame\n",
    "df_trump = pd.read_json(open('data/all_tweets.json'))\n",
    "df_trump = df_trump[['ID', 'time', 'text', 'source', 'retweet_count']]\n",
    "df_trump.drop_duplicates()\n",
    "df_trump['time'] = pd.to_datetime(df_trump['time'])\n",
    "df_trump = df_trump.set_index('ID')\n",
    "\n",
    "# df_trump['time'].dt.tz_localize(None)\n",
    "df_trump['time'] = df_trump['time'].astype('datetime64[ns]')"
   ]
  },
  {
   "cell_type": "code",
   "execution_count": 16,
   "metadata": {},
   "outputs": [],
   "source": [
    "# prview the cleaned dataframe\n",
    "# df_trump.head(-10)"
   ]
  },
  {
   "cell_type": "code",
   "execution_count": 17,
   "metadata": {
    "scrolled": true
   },
   "outputs": [],
   "source": [
    "# These assertion statements can be changed (if you'd like) as things can be different based on \n",
    "# if you are using old and new tweets or just the old tweets. \n",
    "# The goal here is to check the validity of the data\n",
    "\n",
    "assert isinstance(df_trump, pd.DataFrame)\n",
    "assert df_trump.shape[0] < 12000\n",
    "assert df_trump.shape[1] >= 4\n",
    "# assert 831846101179314177 in df_trump.index\n",
    "# assert 753063644578144260 in df_trump.index\n",
    "assert all(col in df_trump.columns for col in ['time', 'source', 'text', 'retweet_count'])\n",
    "# If you fail these tests, you probably tried to use __dict__ or _json to read in the tweets\n",
    "assert np.sometrue([('Twitter for iPhone' in s) for s in df_trump['source'].unique()])\n",
    "assert df_trump['time'].dtype == np.dtype('<M8[ns]')\n",
    "assert df_trump['text'].dtype == np.dtype('O')\n",
    "assert df_trump['retweet_count'].dtype == np.dtype('int64')"
   ]
  },
  {
   "cell_type": "code",
   "execution_count": 18,
   "metadata": {},
   "outputs": [
    {
     "data": {
      "text/plain": [
       "array(['Twitter for iPhone', 'Twitter for iPad', 'Twitter Media Studio',\n",
       "       'Media Studio', 'Twitter Web Client', 'Twitter Ads',\n",
       "       'Twitter for Android', 'Periscope', 'TweetDeck', 'Instagram',\n",
       "       'Mobile Web (M5)'], dtype=object)"
      ]
     },
     "execution_count": 18,
     "metadata": {},
     "output_type": "execute_result"
    }
   ],
   "source": [
    "df_trump['source'].unique()"
   ]
  },
  {
   "cell_type": "markdown",
   "metadata": {},
   "source": [
    "# Task 3.3\n",
    "\n",
    "Remove the HTML tags from the source field."
   ]
  },
  {
   "cell_type": "code",
   "execution_count": 19,
   "metadata": {},
   "outputs": [],
   "source": [
    "# Already did it when parsing the json data\n",
    "df_trump['source'] = df_trump['source']"
   ]
  },
  {
   "cell_type": "markdown",
   "metadata": {},
   "source": [
    "<font color='red' >The code below does not work because the old json file was not posted</font>"
   ]
  },
  {
   "cell_type": "code",
   "execution_count": 20,
   "metadata": {},
   "outputs": [],
   "source": [
    "from datetime import datetime\n",
    "ELEC_DATE = datetime(2016, 11, 8)\n",
    "INAUG_DATE = datetime(2017, 1, 20)\n",
    "assert set(df_trump[(df_trump['time'] > ELEC_DATE) & (df_trump['time'] < INAUG_DATE) ]['source'].unique()) == set(['Twitter Ads',\n",
    " 'Twitter Web Client',\n",
    " 'Twitter for Android',\n",
    " 'Twitter for iPhone'])\n"
   ]
  },
  {
   "cell_type": "code",
   "execution_count": 21,
   "metadata": {},
   "outputs": [
    {
     "data": {
      "image/png": "[encoded data removed]",
      "text/plain": [
       "<Figure size 432x288 with 1 Axes>"
      ]
     },
     "metadata": {
      "needs_background": "light"
     },
     "output_type": "display_data"
    }
   ],
   "source": [
    "plt.figure()\n",
    "df_trump['source'].value_counts(ascending=True).plot(kind=\"barh\", color='xkcd:azure')\n",
    "plt.xlabel(\"Number of Tweets\")\n",
    "plt.title('The most common device types used in accessing twitter')\n",
    "plt.show()"
   ]
  },
  {
   "cell_type": "markdown",
   "metadata": {},
   "source": [
    "# Task 3.4\n",
    "\n",
    "Is there a difference between his Tweet behavior across these devices? We will attempt to answer this question in our subsequent analysis.\n",
    "\n",
    "First, we'll take a look at whether Trump's tweets from an Android come at different times than his tweets from an iPhone. Note that Twitter gives us his tweets in the UTC timezone (notice the +0000 in the first few tweets)\n"
   ]
  },
  {
   "cell_type": "code",
   "execution_count": 22,
   "metadata": {},
   "outputs": [
    {
     "data": {
      "text/html": [
       "<div>\n",
       "<style scoped>\n",
       "    .dataframe tbody tr th:only-of-type {\n",
       "        vertical-align: middle;\n",
       "    }\n",
       "\n",
       "    .dataframe tbody tr th {\n",
       "        vertical-align: top;\n",
       "    }\n",
       "\n",
       "    .dataframe thead th {\n",
       "        text-align: right;\n",
       "    }\n",
       "</style>\n",
       "<table border=\"1\" class=\"dataframe\">\n",
       "  <thead>\n",
       "    <tr style=\"text-align: right;\">\n",
       "      <th></th>\n",
       "      <th>time</th>\n",
       "      <th>text</th>\n",
       "      <th>source</th>\n",
       "      <th>retweet_count</th>\n",
       "      <th>est_time</th>\n",
       "    </tr>\n",
       "    <tr>\n",
       "      <th>ID</th>\n",
       "      <th></th>\n",
       "      <th></th>\n",
       "      <th></th>\n",
       "      <th></th>\n",
       "      <th></th>\n",
       "    </tr>\n",
       "  </thead>\n",
       "  <tbody>\n",
       "    <tr>\n",
       "      <th>1101880269106221056</th>\n",
       "      <td>2019-03-02 16:21:42</td>\n",
       "      <td>Thank you @marklevinshow!\\nhttps://t.co/dwQR11genG</td>\n",
       "      <td>Twitter for iPhone</td>\n",
       "      <td>10849</td>\n",
       "      <td>2019-03-02 11:21:42-05:00</td>\n",
       "    </tr>\n",
       "    <tr>\n",
       "      <th>1101870920795373568</th>\n",
       "      <td>2019-03-02 15:44:33</td>\n",
       "      <td>@TeamCavuto  It was a 3 day train ride to Vietnam, not 3 hours!</td>\n",
       "      <td>Twitter for iPhone</td>\n",
       "      <td>1601</td>\n",
       "      <td>2019-03-02 10:44:33-05:00</td>\n",
       "    </tr>\n",
       "    <tr>\n",
       "      <th>1101857665037287424</th>\n",
       "      <td>2019-03-02 14:51:53</td>\n",
       "      <td>RT @realDonaldTrump: 93% Approval Rating in the Republican Party. 52% Approval Rating overall! Not bad considering I get the most unfair (B…</td>\n",
       "      <td>Twitter for iPhone</td>\n",
       "      <td>34498</td>\n",
       "      <td>2019-03-02 09:51:53-05:00</td>\n",
       "    </tr>\n",
       "    <tr>\n",
       "      <th>1101857408001949696</th>\n",
       "      <td>2019-03-02 14:50:52</td>\n",
       "      <td>RT @realDonaldTrump: I hope our great Republican Senators don’t get led down the path of weak and ineffective Border Security. Without stro…</td>\n",
       "      <td>Twitter for iPhone</td>\n",
       "      <td>27707</td>\n",
       "      <td>2019-03-02 09:50:52-05:00</td>\n",
       "    </tr>\n",
       "    <tr>\n",
       "      <th>1101856883634302976</th>\n",
       "      <td>2019-03-02 14:48:47</td>\n",
       "      <td>RT @realDonaldTrump: Since my election as President the Dow Jones is up 43% and the NASDAQ Composite almost 50%. Great news for your 401(k)…</td>\n",
       "      <td>Twitter for iPhone</td>\n",
       "      <td>24511</td>\n",
       "      <td>2019-03-02 09:48:47-05:00</td>\n",
       "    </tr>\n",
       "  </tbody>\n",
       "</table>\n",
       "</div>"
      ],
      "text/plain": [
       "                                   time  \\\n",
       "ID                                        \n",
       "1101880269106221056 2019-03-02 16:21:42   \n",
       "1101870920795373568 2019-03-02 15:44:33   \n",
       "1101857665037287424 2019-03-02 14:51:53   \n",
       "1101857408001949696 2019-03-02 14:50:52   \n",
       "1101856883634302976 2019-03-02 14:48:47   \n",
       "\n",
       "                                                                                                                                                             text  \\\n",
       "ID                                                                                                                                                                  \n",
       "1101880269106221056                                                                                            Thank you @marklevinshow!\\nhttps://t.co/dwQR11genG   \n",
       "1101870920795373568                                                                               @TeamCavuto  It was a 3 day train ride to Vietnam, not 3 hours!   \n",
       "1101857665037287424  RT @realDonaldTrump: 93% Approval Rating in the Republican Party. 52% Approval Rating overall! Not bad considering I get the most unfair (B…   \n",
       "1101857408001949696  RT @realDonaldTrump: I hope our great Republican Senators don’t get led down the path of weak and ineffective Border Security. Without stro…   \n",
       "1101856883634302976  RT @realDonaldTrump: Since my election as President the Dow Jones is up 43% and the NASDAQ Composite almost 50%. Great news for your 401(k)…   \n",
       "\n",
       "                                 source  retweet_count  \\\n",
       "ID                                                       \n",
       "1101880269106221056  Twitter for iPhone          10849   \n",
       "1101870920795373568  Twitter for iPhone           1601   \n",
       "1101857665037287424  Twitter for iPhone          34498   \n",
       "1101857408001949696  Twitter for iPhone          27707   \n",
       "1101856883634302976  Twitter for iPhone          24511   \n",
       "\n",
       "                                     est_time  \n",
       "ID                                             \n",
       "1101880269106221056 2019-03-02 11:21:42-05:00  \n",
       "1101870920795373568 2019-03-02 10:44:33-05:00  \n",
       "1101857665037287424 2019-03-02 09:51:53-05:00  \n",
       "1101857408001949696 2019-03-02 09:50:52-05:00  \n",
       "1101856883634302976 2019-03-02 09:48:47-05:00  "
      ]
     },
     "execution_count": 22,
     "metadata": {},
     "output_type": "execute_result"
    }
   ],
   "source": [
    "df_trump['est_time'] = (\n",
    "    df_trump['time'].dt.tz_localize(\"UTC\") # Set initial timezone to UTC\n",
    "                 .dt.tz_convert(\"EST\") # Convert to Eastern Time\n",
    ")\n",
    "df_trump.head()"
   ]
  },
  {
   "cell_type": "code",
   "execution_count": 23,
   "metadata": {},
   "outputs": [
    {
     "data": {
      "image/png": "[encoded data removed]",
      "text/plain": [
       "<Figure size 864x576 with 1 Axes>"
      ]
     },
     "metadata": {
      "needs_background": "light"
     },
     "output_type": "display_data"
    }
   ],
   "source": [
    "df_trump['hour'] = df_trump.est_time.apply(lambda x: x.hour + x.minute/60 + x.minute/3600)# make a bar plot here\n",
    "\n",
    "# make a bar plot here\n",
    "\n",
    "# bar plot is useless here(personal note)\n",
    "\n",
    "### BEGIN SOLUTION\n",
    "# plt.figure()\n",
    "# df_trump['hour'].value_counts().plot(kind=\"bar\", color='xkcd:azure')\n",
    "# plt.xlabel(\"Hours\")\n",
    "# plt.show()\n",
    "### END SOLUTION\n",
    "\n",
    "plt.figure(figsize=(12,8))\n",
    "df_trump_iphone = df_trump[(df_trump['source'] == 'Twitter for iPhone')]['hour']\n",
    "\n",
    "df_trump_media = df_trump[(df_trump['source'] == 'Twitter for Android')]['hour']\n",
    "ax = sns.distplot(df_trump_iphone, hist=False, label = 'iPhone', color = 'green')\n",
    "ax1 = sns.distplot(df_trump_media, hist=False, label = 'Android', color = 'orange')\n",
    "ax.set_xlabel(\"Hour\")\n",
    "ax.set_ylabel(\"Fraction\")\n",
    "plt.show()"
   ]
  },
  {
   "cell_type": "markdown",
   "metadata": {},
   "source": [
    "<font color='red' >Modified the code below (increased abs error). Bar plot is useless too.</font>"
   ]
  },
  {
   "cell_type": "code",
   "execution_count": 24,
   "metadata": {},
   "outputs": [],
   "source": [
    "assert np.isclose(df_trump.loc[690171032150237184]['hour'], 8.93639, 0.01)\n",
    "# x = df_trump.loc[690171032150237184]['hour']\n",
    "# np.isclose(x, 8.936, 0.001)"
   ]
  },
  {
   "cell_type": "markdown",
   "metadata": {},
   "source": [
    "# Task 3.5"
   ]
  },
  {
   "cell_type": "markdown",
   "metadata": {},
   "source": [
    "<b><font color = 'Black'>According to this Verge article, Donald Trump switched from an Android to an iPhone sometime in March 2017.\n",
    "\n",
    "Show the results only from 2016.\n",
    "\n",
    "During the campaign, it was theorized that Donald Trump's tweets from Android were written by him personally, and the tweets from iPhone were from his staff. Does your figure give support the theory?</font></b>"
   ]
  },
  {
   "cell_type": "markdown",
   "metadata": {},
   "source": [
    "Response: In 2016, the time allocation for the usage of the iphone centered in the afternoon, while his tweets from 2015 to present shows that he mostly uses his iphone in the morning. This finding does support the argument above, but we still need to further investigate into this argument."
   ]
  },
  {
   "cell_type": "code",
   "execution_count": 25,
   "metadata": {},
   "outputs": [
    {
     "data": {
      "image/png": "[encoded data removed]",
      "text/plain": [
       "<Figure size 864x576 with 1 Axes>"
      ]
     },
     "metadata": {
      "needs_background": "light"
     },
     "output_type": "display_data"
    }
   ],
   "source": [
    "plt.figure(figsize=(12,8))\n",
    "x = df_trump[(df_trump.time.dt.year == 2016)]\n",
    "\n",
    "df_trump_iphone = x[(x['source'] == 'Twitter for iPhone')]['hour']\n",
    "\n",
    "df_trump_android = x[(x['source'] == 'Twitter for Android')]['hour']\n",
    "ax = sns.distplot(df_trump_iphone, hist=False, label = 'iPhone', color = 'green')\n",
    "ax1 = sns.distplot(df_trump_android, hist=False, label = 'Android', color = 'orange')\n",
    "ax.set_xlabel(\"Hour\")\n",
    "ax.set_ylabel(\"Fraction\")\n",
    "plt.show()"
   ]
  },
  {
   "cell_type": "markdown",
   "metadata": {},
   "source": [
    "# Task 3.6\n",
    "\n",
    "What time of the day the Android tweets were made by Trump himself? (eg: morning, late night etc)\n",
    "\n",
    "**Morning**\n",
    "    \n",
    "What time of the day the Android tweets were made by paid staff?\n",
    "\n",
    "**Afternoon**"
   ]
  },
  {
   "cell_type": "markdown",
   "metadata": {},
   "source": [
    "# Task 3.7 Device Analysis\n",
    "\n",
    "Let's now look at which device he has used over the entire time period of this dataset.\n",
    "\n",
    "To examine the distribution of dates we will convert the date to a fractional year that can be plotted as a distribution.\n",
    "\n",
    "(Code borrowed from https://stackoverflow.com/questions/6451655/python-how-to-convert-datetime-dates-to-decimal-years)\n"
   ]
  },
  {
   "cell_type": "code",
   "execution_count": 26,
   "metadata": {},
   "outputs": [
    {
     "data": {
      "image/png": "[encoded data removed]",
      "text/plain": [
       "<Figure size 864x576 with 1 Axes>"
      ]
     },
     "metadata": {
      "needs_background": "light"
     },
     "output_type": "display_data"
    }
   ],
   "source": [
    "import datetime\n",
    "def year_fraction(date):\n",
    "    start = datetime.date(date.year, 1, 1).toordinal()\n",
    "    year_length = datetime.date(date.year+1, 1, 1).toordinal() - start\n",
    "    return date.year + float(date.toordinal() - start) / year_length\n",
    "\n",
    "\n",
    "df_trump['year'] = df_trump['time'].apply(year_fraction)\n",
    "\n",
    "plt.figure(figsize=(12,8))\n",
    "df_trump_iphone1 = df_trump[(df_trump['source'] == 'Twitter for iPhone')]['year']\n",
    "df_trump_android1 = df_trump[(df_trump['source'] == 'Twitter for Android')]['year']\n",
    "ax = sns.distplot(df_trump_iphone1, hist=True, kde_kws={\"color\": \"green\", \"lw\": 3, \"label\": \"IPhone\"})\n",
    "ax1 = sns.distplot(df_trump_android1, hist=True, kde_kws={\"color\": \"orange\", \"lw\": 3, \"label\": \"Android\"},)\n",
    "ax.set_xlabel(\"Year\")\n",
    "ax.set_ylabel(\"Fraction\")\n",
    "\n",
    "import matplotlib.ticker as ticker\n",
    "x_ax = ax.axes.get_xaxis()\n",
    "x_ax.set_major_locator(ticker.MaxNLocator(integer=True)) \n",
    "\n",
    "plt.show()"
   ]
  },
  {
   "cell_type": "markdown",
   "metadata": {},
   "source": [
    "# PART 4 - Sentiment Analysis\n",
    "\n",
    "It turns out that we can use the words in Trump's tweets to calculate a measure of the sentiment of the tweet. For example, the sentence \"I love America!\" has positive sentiment, whereas the sentence \"I hate taxes!\" has a negative sentiment. In addition, some words have stronger positive / negative sentiment than others: \"I love America.\" is more positive than \"I like America.\"\n",
    "\n",
    "We will use the VADER (Valence Aware Dictionary and sEntiment Reasoner) lexicon to analyze the sentiment of Trump's tweets. VADER is a lexicon and rule-based sentiment analysis tool that is specifically attuned to sentiments expressed in social media which is great for our usage.\n",
    "\n",
    "The VADER lexicon gives the sentiment of individual words. Run the following cell to show the first few rows of the lexicon:\n"
   ]
  },
  {
   "cell_type": "code",
   "execution_count": 27,
   "metadata": {},
   "outputs": [
    {
     "name": "stdout",
     "output_type": "stream",
     "text": [
      "$:\t-1.5\t0.80623\t[-1, -1, -1, -1, -3, -1, -3, -1, -2, -1]\n",
      "%)\t-0.4\t1.0198\t[-1, 0, -1, 0, 0, -2, -1, 2, -1, 0]\n",
      "%-)\t-1.5\t1.43178\t[-2, 0, -2, -2, -1, 2, -2, -3, -2, -3]\n",
      "&-:\t-0.4\t1.42829\t[-3, -1, 0, 0, -1, -1, -1, 2, -1, 2]\n",
      "&:\t-0.7\t0.64031\t[0, -1, -1, -1, 1, -1, -1, -1, -1, -1]\n",
      "( '}{' )\t1.6\t0.66332\t[1, 2, 2, 1, 1, 2, 2, 1, 3, 1]\n",
      "(%\t-0.9\t0.9434\t[0, 0, 1, -1, -1, -1, -2, -2, -1, -2]\n",
      "('-:\t2.2\t1.16619\t[4, 1, 4, 3, 1, 2, 3, 1, 2, 1]\n",
      "(':\t2.3\t0.9\t[1, 3, 3, 2, 2, 4, 2, 3, 1, 2]\n",
      "((-:\t2.1\t0.53852\t[2, 2, 2, 1, 2, 3, 2, 2, 3, 2]\n",
      "\n"
     ]
    }
   ],
   "source": [
    "print(''.join(open(\"data/vader_lexicon.txt\").readlines()[:10]))"
   ]
  },
  {
   "cell_type": "markdown",
   "metadata": {},
   "source": [
    "# Task 4.1\n",
    "\n",
    "As you can see, the lexicon contains emojis too! The first column of the lexicon is the token, or the word itself. The second column is the polarity of the word, or how positive / negative it is.\n",
    "\n",
    "(How did they decide the polarities of these words? What are the other two columns in the lexicon? See the link above.)\n",
    "\n",
    "Read in the lexicon into a DataFrame called df_sent. The index of the DF should be the tokens in the lexicon. df_sent should have one column: polarity: The polarity of each token.\n"
   ]
  },
  {
   "cell_type": "code",
   "execution_count": 28,
   "metadata": {},
   "outputs": [],
   "source": [
    "# data = pd.read_csv(\"data/vader_lexicon.txt\", sep=\" \", header=None)\n",
    "data=pd.read_csv(\"data/vader_lexicon.txt\",delimiter=\"\\t\", header=None)\n",
    "data.columns = [\"token\", \"polarity\", \"b\", \"a\"]\n",
    "df_sent = data.drop(['a', 'b'], axis=1)\n",
    "df_sent.set_index('token', inplace = True)"
   ]
  },
  {
   "cell_type": "code",
   "execution_count": 29,
   "metadata": {},
   "outputs": [],
   "source": [
    "assert isinstance(df_sent, pd.DataFrame)\n",
    "assert df_sent.shape == (7517, 1)\n",
    "assert list(df_sent.index[5000:5005]) == ['paranoids', 'pardon', 'pardoned', 'pardoning', 'pardons']\n",
    "assert np.allclose(df_sent['polarity'].head(), [-1.5, -0.4, -1.5, -0.4, -0.7])"
   ]
  },
  {
   "cell_type": "markdown",
   "metadata": {},
   "source": [
    "# Task 4.2\n",
    "\n",
    "Now, let's use this lexicon to calculate the overall sentiment for each of Trump's tweets. Here's the basic idea:\n",
    "\n",
    "    For each tweet, find the sentiment of each word.\n",
    "    Calculate the sentiment of each tweet by taking the sum of the sentiments of its words.\n",
    "\n",
    "First, let's lowercase the text in the tweets since the lexicon is also lowercase. Set the text column of the df_trump DF to be the lowercased text of each tweet."
   ]
  },
  {
   "cell_type": "code",
   "execution_count": 30,
   "metadata": {},
   "outputs": [],
   "source": [
    "df_trump['text'] = df_trump['text'].str.lower()"
   ]
  },
  {
   "cell_type": "code",
   "execution_count": 31,
   "metadata": {},
   "outputs": [],
   "source": [
    "assert df_trump['text'].loc[884740553040175104] == 'working hard to get the olympics for the united states (l.a.). stay tuned!'"
   ]
  },
  {
   "cell_type": "code",
   "execution_count": 32,
   "metadata": {},
   "outputs": [],
   "source": [
    "punct_re = r'[^\\w\\s\\\\n]'\n",
    "\n",
    "# s = \"string. With. Punctuation?\"\n",
    "# s = re.sub(punct_re,'',s)\n",
    "regex = re.compile(punct_re, flags=re.IGNORECASE)\n",
    "df_trump['no_punc'] = df_trump['text'].replace(regex,' ')\n"
   ]
  },
  {
   "cell_type": "code",
   "execution_count": 33,
   "metadata": {},
   "outputs": [],
   "source": [
    "\n",
    "\n",
    "assert isinstance(punct_re, str)\n",
    "assert re.search(punct_re, 'this') is None\n",
    "assert re.search(punct_re, 'this is ok') is None\n",
    "assert re.search(punct_re, 'this is\\nok') is None\n",
    "assert re.search(punct_re, 'this is not ok.') is not None\n",
    "assert re.search(punct_re, 'this#is#ok') is not None\n",
    "assert re.search(punct_re, 'this^is ok') is not None\n",
    "assert df_trump['no_punc'].loc[800329364986626048] == 'i watched parts of  nbcsnl saturday night live last night  it is a totally one sided  biased show   nothing funny at all  equal time for us '\n",
    "\n",
    "# I can't fix it, it was stored in a json file, and I can manually find, but it is missing in the first place\n",
    "# assert df_trump['no_punc'].loc[894620077634592769] == 'on  purpleheartday i thank all the brave men and women who have sacrificed in battle for this great nation   usa   https   t co qmfdlslp6p'\n",
    "assert df_trump['text'].loc[884740553040175104] == 'working hard to get the olympics for the united states (l.a.). stay tuned!'\n",
    "\n"
   ]
  },
  {
   "cell_type": "code",
   "execution_count": 34,
   "metadata": {},
   "outputs": [],
   "source": [
    "# df_trump['no_punc'].head(50)"
   ]
  },
  {
   "cell_type": "markdown",
   "metadata": {},
   "source": [
    "# Task 4.4\n",
    "\n",
    "Now, let's convert the tweets into what's called a tidy format to make the sentiments easier to calculate. Use the no_punc column of df_trump to create a table called tidy_format. The index of the table should be the IDs of the tweets, repeated once for every word in the tweet. It has two columns:\n",
    "\n",
    "    1. num: The location of the word in the tweet. For example, if the tweet was \"i love america\", then the location of the word \"i\" is 0, \"love\" is 1, and \"america\" is 2.\n",
    "    2. word: The individual words of each tweet.\n"
   ]
  },
  {
   "cell_type": "code",
   "execution_count": 35,
   "metadata": {},
   "outputs": [],
   "source": [
    "# tidy_format = ...\n",
    "\n",
    "### BEGIN SOLUTION\n",
    "temp = df_trump['no_punc'].str.split(expand = True).stack().to_frame().reset_index()\n",
    "temp.columns = ['id', 'num', 'word']\n",
    "temp.set_index('id', inplace= True)\n",
    "temp.index.name = None\n",
    "tidy_format = temp\n",
    "### END SOLUTION"
   ]
  },
  {
   "cell_type": "code",
   "execution_count": 36,
   "metadata": {},
   "outputs": [],
   "source": [
    "assert tidy_format.loc[894661651760377856].shape == (27, 2)\n",
    "assert ' '.join(list(tidy_format.loc[894661651760377856]['word'])) == 'i think senator blumenthal should take a nice long vacation in vietnam where he lied about his service so he can at least say he was there'"
   ]
  },
  {
   "cell_type": "markdown",
   "metadata": {},
   "source": [
    "# Task 4.5¶\n",
    "\n",
    "Now that we have this table in the tidy format, it becomes much easier to find the sentiment of each tweet: we can join the table with the lexicon table.\n",
    "\n",
    "Add a polarity column to the trump table. The polarity column should contain the sum of the sentiment polarity of each word in the text of the tweet.\n",
    "\n",
    "Hint you will need to merge the tidy_format and sent tables and group the final answer.\n"
   ]
  },
  {
   "cell_type": "code",
   "execution_count": 37,
   "metadata": {
    "scrolled": true
   },
   "outputs": [],
   "source": [
    "# df_sent[df_sent.index == 'thank']\n",
    "# df_1['KEY_PLA'] = df_1['KEY_PLA'].astype(int)\n",
    "df_sent1 = df_sent.copy().reset_index()\n",
    "tidy_format1 = tidy_format.copy().rename_axis('ID').reset_index()\n",
    "temp = pd.merge(tidy_format1, df_sent1, how='left', left_on='word', right_on='token').dropna()"
   ]
  },
  {
   "cell_type": "code",
   "execution_count": 38,
   "metadata": {},
   "outputs": [
    {
     "data": {
      "text/html": [
       "<div>\n",
       "<style scoped>\n",
       "    .dataframe tbody tr th:only-of-type {\n",
       "        vertical-align: middle;\n",
       "    }\n",
       "\n",
       "    .dataframe tbody tr th {\n",
       "        vertical-align: top;\n",
       "    }\n",
       "\n",
       "    .dataframe thead th {\n",
       "        text-align: right;\n",
       "    }\n",
       "</style>\n",
       "<table border=\"1\" class=\"dataframe\">\n",
       "  <thead>\n",
       "    <tr style=\"text-align: right;\">\n",
       "      <th></th>\n",
       "      <th>time</th>\n",
       "      <th>text</th>\n",
       "      <th>source</th>\n",
       "      <th>retweet_count</th>\n",
       "      <th>est_time</th>\n",
       "      <th>hour</th>\n",
       "      <th>year</th>\n",
       "      <th>no_punc</th>\n",
       "      <th>polarity</th>\n",
       "    </tr>\n",
       "    <tr>\n",
       "      <th>ID</th>\n",
       "      <th></th>\n",
       "      <th></th>\n",
       "      <th></th>\n",
       "      <th></th>\n",
       "      <th></th>\n",
       "      <th></th>\n",
       "      <th></th>\n",
       "      <th></th>\n",
       "      <th></th>\n",
       "    </tr>\n",
       "  </thead>\n",
       "  <tbody>\n",
       "    <tr>\n",
       "      <th>682723973449289728</th>\n",
       "      <td>2016-01-01 00:44:14</td>\n",
       "      <td>i will be on @foxnews live,  with members of my family, at 11:50 p.m. we will ring in the new year together! make america great again!</td>\n",
       "      <td>Twitter for Android</td>\n",
       "      <td>2108</td>\n",
       "      <td>2015-12-31 19:44:14-05:00</td>\n",
       "      <td>19.745556</td>\n",
       "      <td>2016.0</td>\n",
       "      <td>i will be on  foxnews live   with members of my family  at 11 50 p m  we will ring in the new year together  make america great again</td>\n",
       "      <td>3.1</td>\n",
       "    </tr>\n",
       "    <tr>\n",
       "      <th>682764544402440192</th>\n",
       "      <td>2016-01-01 03:25:27</td>\n",
       "      <td>happy new year &amp;amp; thank you! https://t.co/yo1yi8qbzy https://t.co/uxuxwj1rbv</td>\n",
       "      <td>Twitter for iPhone</td>\n",
       "      <td>3460</td>\n",
       "      <td>2015-12-31 22:25:27-05:00</td>\n",
       "      <td>22.423611</td>\n",
       "      <td>2016.0</td>\n",
       "      <td>happy new year  amp  thank you  https   t co yo1yi8qbzy https   t co uxuxwj1rbv</td>\n",
       "      <td>4.2</td>\n",
       "    </tr>\n",
       "    <tr>\n",
       "      <th>682792967736848384</th>\n",
       "      <td>2016-01-01 05:18:23</td>\n",
       "      <td>#happynewyearamerica! https://t.co/eeqb8pdrue</td>\n",
       "      <td>Twitter for iPhone</td>\n",
       "      <td>3434</td>\n",
       "      <td>2016-01-01 00:18:23-05:00</td>\n",
       "      <td>0.305000</td>\n",
       "      <td>2016.0</td>\n",
       "      <td>happynewyearamerica  https   t co eeqb8pdrue</td>\n",
       "      <td>0.0</td>\n",
       "    </tr>\n",
       "    <tr>\n",
       "      <th>682805320217980928</th>\n",
       "      <td>2016-01-01 06:07:28</td>\n",
       "      <td>happy new year from #maralago! thank you to my great family for all of their support. https://t.co/6usqsiaaj7</td>\n",
       "      <td>Twitter for iPhone</td>\n",
       "      <td>1948</td>\n",
       "      <td>2016-01-01 01:07:28-05:00</td>\n",
       "      <td>1.118611</td>\n",
       "      <td>2016.0</td>\n",
       "      <td>happy new year from  maralago  thank you to my great family for all of their support  https   t co 6usqsiaaj7</td>\n",
       "      <td>9.0</td>\n",
       "    </tr>\n",
       "    <tr>\n",
       "      <th>682805477168779264</th>\n",
       "      <td>2016-01-01 06:08:06</td>\n",
       "      <td>\"@jallenaip: hillary said she was in a \"fog of war\" as explanation for the lies about benghazi. no fog allowed in wh. vote trump potus!\"</td>\n",
       "      <td>Twitter for Android</td>\n",
       "      <td>2721</td>\n",
       "      <td>2016-01-01 01:08:06-05:00</td>\n",
       "      <td>1.135556</td>\n",
       "      <td>2016.0</td>\n",
       "      <td>jallenaip  hillary said she was in a  fog of war  as explanation for the lies about benghazi  no fog allowed in wh  vote trump potus</td>\n",
       "      <td>-5.9</td>\n",
       "    </tr>\n",
       "    <tr>\n",
       "      <th>683037464504745984</th>\n",
       "      <td>2016-01-01 21:29:56</td>\n",
       "      <td>\"@sprinklermanus: @cnn @realdonaldtrump they're spending millions but you're still going to win - go donald trump\"</td>\n",
       "      <td>Twitter for Android</td>\n",
       "      <td>933</td>\n",
       "      <td>2016-01-01 16:29:56-05:00</td>\n",
       "      <td>16.491389</td>\n",
       "      <td>2016.0</td>\n",
       "      <td>sprinklermanus   cnn  realdonaldtrump they re spending millions but you re still going to win   go donald trump</td>\n",
       "      <td>2.8</td>\n",
       "    </tr>\n",
       "    <tr>\n",
       "      <th>683060169677344768</th>\n",
       "      <td>2016-01-01 23:00:09</td>\n",
       "      <td>well, the year has officially begun. i have many stops planned and will be working very hard to win so that we can turn our country around!</td>\n",
       "      <td>Twitter for Android</td>\n",
       "      <td>2642</td>\n",
       "      <td>2016-01-01 18:00:09-05:00</td>\n",
       "      <td>18.000000</td>\n",
       "      <td>2016.0</td>\n",
       "      <td>well  the year has officially begun  i have many stops planned and will be working very hard to win so that we can turn our country around</td>\n",
       "      <td>2.9</td>\n",
       "    </tr>\n",
       "    <tr>\n",
       "      <th>683060654098530304</th>\n",
       "      <td>2016-01-01 23:02:05</td>\n",
       "      <td>\"@marie7777777777: @realdonaldtrump we love u to trump family. god bless you.\"</td>\n",
       "      <td>Twitter for Android</td>\n",
       "      <td>654</td>\n",
       "      <td>2016-01-01 18:02:05-05:00</td>\n",
       "      <td>18.033889</td>\n",
       "      <td>2016.0</td>\n",
       "      <td>marie7777777777   realdonaldtrump we love u to trump family  god bless you</td>\n",
       "      <td>6.1</td>\n",
       "    </tr>\n",
       "    <tr>\n",
       "      <th>683061678246903808</th>\n",
       "      <td>2016-01-01 23:06:09</td>\n",
       "      <td>\"@jodil792: we are standing with you! spreading the word...trump for president 2016!! i wake &amp;amp; sleep praying for you &amp;amp; the usa!+israel2\"</td>\n",
       "      <td>Twitter for Android</td>\n",
       "      <td>893</td>\n",
       "      <td>2016-01-01 18:06:09-05:00</td>\n",
       "      <td>18.101667</td>\n",
       "      <td>2016.0</td>\n",
       "      <td>jodil792  we are standing with you  spreading the word   trump for president 2016   i wake  amp  sleep praying for you  amp  the usa  israel2</td>\n",
       "      <td>1.5</td>\n",
       "    </tr>\n",
       "    <tr>\n",
       "      <th>683062220490715136</th>\n",
       "      <td>2016-01-01 23:08:18</td>\n",
       "      <td>\"@memeoryhead: i'm one of your biggest fans mr trump and i can't wait for you to make america great ifagain! never forget you have support!\"</td>\n",
       "      <td>Twitter for Android</td>\n",
       "      <td>881</td>\n",
       "      <td>2016-01-01 18:08:18-05:00</td>\n",
       "      <td>18.135556</td>\n",
       "      <td>2016.0</td>\n",
       "      <td>memeoryhead  i m one of your biggest fans mr trump and i can t wait for you to make america great ifagain  never forget you have support</td>\n",
       "      <td>3.9</td>\n",
       "    </tr>\n",
       "  </tbody>\n",
       "</table>\n",
       "</div>"
      ],
      "text/plain": [
       "                                  time  \\\n",
       "ID                                       \n",
       "682723973449289728 2016-01-01 00:44:14   \n",
       "682764544402440192 2016-01-01 03:25:27   \n",
       "682792967736848384 2016-01-01 05:18:23   \n",
       "682805320217980928 2016-01-01 06:07:28   \n",
       "682805477168779264 2016-01-01 06:08:06   \n",
       "683037464504745984 2016-01-01 21:29:56   \n",
       "683060169677344768 2016-01-01 23:00:09   \n",
       "683060654098530304 2016-01-01 23:02:05   \n",
       "683061678246903808 2016-01-01 23:06:09   \n",
       "683062220490715136 2016-01-01 23:08:18   \n",
       "\n",
       "                                                                                                                                                                text  \\\n",
       "ID                                                                                                                                                                     \n",
       "682723973449289728            i will be on @foxnews live,  with members of my family, at 11:50 p.m. we will ring in the new year together! make america great again!   \n",
       "682764544402440192                                                                   happy new year &amp; thank you! https://t.co/yo1yi8qbzy https://t.co/uxuxwj1rbv   \n",
       "682792967736848384                                                                                                     #happynewyearamerica! https://t.co/eeqb8pdrue   \n",
       "682805320217980928                                     happy new year from #maralago! thank you to my great family for all of their support. https://t.co/6usqsiaaj7   \n",
       "682805477168779264          \"@jallenaip: hillary said she was in a \"fog of war\" as explanation for the lies about benghazi. no fog allowed in wh. vote trump potus!\"   \n",
       "683037464504745984                                \"@sprinklermanus: @cnn @realdonaldtrump they're spending millions but you're still going to win - go donald trump\"   \n",
       "683060169677344768       well, the year has officially begun. i have many stops planned and will be working very hard to win so that we can turn our country around!   \n",
       "683060654098530304                                                                    \"@marie7777777777: @realdonaldtrump we love u to trump family. god bless you.\"   \n",
       "683061678246903808  \"@jodil792: we are standing with you! spreading the word...trump for president 2016!! i wake &amp; sleep praying for you &amp; the usa!+israel2\"   \n",
       "683062220490715136      \"@memeoryhead: i'm one of your biggest fans mr trump and i can't wait for you to make america great ifagain! never forget you have support!\"   \n",
       "\n",
       "                                 source  retweet_count  \\\n",
       "ID                                                       \n",
       "682723973449289728  Twitter for Android           2108   \n",
       "682764544402440192   Twitter for iPhone           3460   \n",
       "682792967736848384   Twitter for iPhone           3434   \n",
       "682805320217980928   Twitter for iPhone           1948   \n",
       "682805477168779264  Twitter for Android           2721   \n",
       "683037464504745984  Twitter for Android            933   \n",
       "683060169677344768  Twitter for Android           2642   \n",
       "683060654098530304  Twitter for Android            654   \n",
       "683061678246903808  Twitter for Android            893   \n",
       "683062220490715136  Twitter for Android            881   \n",
       "\n",
       "                                    est_time       hour    year  \\\n",
       "ID                                                                \n",
       "682723973449289728 2015-12-31 19:44:14-05:00  19.745556  2016.0   \n",
       "682764544402440192 2015-12-31 22:25:27-05:00  22.423611  2016.0   \n",
       "682792967736848384 2016-01-01 00:18:23-05:00   0.305000  2016.0   \n",
       "682805320217980928 2016-01-01 01:07:28-05:00   1.118611  2016.0   \n",
       "682805477168779264 2016-01-01 01:08:06-05:00   1.135556  2016.0   \n",
       "683037464504745984 2016-01-01 16:29:56-05:00  16.491389  2016.0   \n",
       "683060169677344768 2016-01-01 18:00:09-05:00  18.000000  2016.0   \n",
       "683060654098530304 2016-01-01 18:02:05-05:00  18.033889  2016.0   \n",
       "683061678246903808 2016-01-01 18:06:09-05:00  18.101667  2016.0   \n",
       "683062220490715136 2016-01-01 18:08:18-05:00  18.135556  2016.0   \n",
       "\n",
       "                                                                                                                                                             no_punc  \\\n",
       "ID                                                                                                                                                                     \n",
       "682723973449289728            i will be on  foxnews live   with members of my family  at 11 50 p m  we will ring in the new year together  make america great again    \n",
       "682764544402440192                                                                   happy new year  amp  thank you  https   t co yo1yi8qbzy https   t co uxuxwj1rbv   \n",
       "682792967736848384                                                                                                      happynewyearamerica  https   t co eeqb8pdrue   \n",
       "682805320217980928                                     happy new year from  maralago  thank you to my great family for all of their support  https   t co 6usqsiaaj7   \n",
       "682805477168779264            jallenaip  hillary said she was in a  fog of war  as explanation for the lies about benghazi  no fog allowed in wh  vote trump potus     \n",
       "683037464504745984                                  sprinklermanus   cnn  realdonaldtrump they re spending millions but you re still going to win   go donald trump    \n",
       "683060169677344768       well  the year has officially begun  i have many stops planned and will be working very hard to win so that we can turn our country around    \n",
       "683060654098530304                                                                      marie7777777777   realdonaldtrump we love u to trump family  god bless you     \n",
       "683061678246903808    jodil792  we are standing with you  spreading the word   trump for president 2016   i wake  amp  sleep praying for you  amp  the usa  israel2    \n",
       "683062220490715136        memeoryhead  i m one of your biggest fans mr trump and i can t wait for you to make america great ifagain  never forget you have support     \n",
       "\n",
       "                    polarity  \n",
       "ID                            \n",
       "682723973449289728       3.1  \n",
       "682764544402440192       4.2  \n",
       "682792967736848384       0.0  \n",
       "682805320217980928       9.0  \n",
       "682805477168779264      -5.9  \n",
       "683037464504745984       2.8  \n",
       "683060169677344768       2.9  \n",
       "683060654098530304       6.1  \n",
       "683061678246903808       1.5  \n",
       "683062220490715136       3.9  "
      ]
     },
     "execution_count": 38,
     "metadata": {},
     "output_type": "execute_result"
    }
   ],
   "source": [
    "t = temp.groupby('ID').sum()['polarity'].to_frame()\n",
    "\n",
    "# t.head(10)\n",
    "df_trump = pd.merge(df_trump, t, how='left',left_index=True, right_index=True)\n",
    "\n",
    "# Make all NAN 0 for the polarity, can also drop nan rows as well\n",
    "df_trump.fillna(0, inplace=True)\n",
    "\n",
    "df_trump.head(10)"
   ]
  },
  {
   "cell_type": "code",
   "execution_count": 39,
   "metadata": {},
   "outputs": [],
   "source": [
    "assert np.allclose(df_trump.loc[744701872456536064, 'polarity'], 8.4)\n",
    "assert np.allclose(df_trump.loc[745304731346702336, 'polarity'], 2.5)\n",
    "assert np.allclose(df_trump.loc[744519497764184064, 'polarity'], 1.7)\n",
    "assert np.allclose(df_trump.loc[894661651760377856, 'polarity'], 0.2)\n",
    "\n",
    "# assert np.allclose(df_trump.loc[894620077634592769, 'polarity'], 5.4)\n",
    "# If you fail this test, you dropped tweets with 0 polarity\n",
    "# assert np.allclose(df_trump.loc[744355251365511169, 'polarity'], 0.0)"
   ]
  },
  {
   "cell_type": "markdown",
   "metadata": {},
   "source": [
    "# Task 4.6\n",
    "\n",
    "Now we have a measure of the sentiment of each of his tweets! You can read over the VADER readme to understand a more robust sentiment analysis. Now, write the code to see the most positive and most negative tweets from Trump in your dataset: Find the most negative and most positive tweets made by Trump\n"
   ]
  },
  {
   "cell_type": "code",
   "execution_count": 40,
   "metadata": {},
   "outputs": [
    {
     "name": "stdout",
     "output_type": "stream",
     "text": [
      "Most negative tweets:\n",
      "\n",
      "   horrible and cowardly terrorist attack on innocent and defenseless worshipers in egypt. the world cannot tolerate terrorism, we must defeat them militarily and discredit the extremist ideology that forms the basis of their existence!\n",
      "\n",
      "   horrible and cowardly terrorist attack on innocent and defenseless worshipers in egypt. the world cannot tolerate terrorism, we must defeat them militarily and discredit the extremist ideology that forms the basis of their existence!\n",
      "\n",
      "   nyc terrorist was happy as he asked to hang isis flag in his hospital room. he killed 8 people, badly injured 12. should get death penalty!\n",
      "\n",
      "   nyc terrorist was happy as he asked to hang isis flag in his hospital room. he killed 8 people, badly injured 12. should get death penalty!\n",
      "\n",
      "   fake news cnn made a vicious and purposeful mistake yesterday. they were caught red handed, just like lonely brian ross at abc news (who should be immediately fired for his “mistake”). watch to see if @cnn fires those responsible, or was it just gross incompetence?\n"
     ]
    }
   ],
   "source": [
    "### BEGIN SOLUTION\n",
    "\n",
    "print('Most negative tweets:')\n",
    "for t in df_trump.sort_values('polarity').head()['text']:\n",
    "    print('\\n  ', t)\n",
    "\n",
    "### END SOLUTION"
   ]
  },
  {
   "cell_type": "code",
   "execution_count": 41,
   "metadata": {},
   "outputs": [
    {
     "name": "stdout",
     "output_type": "stream",
     "text": [
      "Most positive tweets:\n",
      "\n",
      "   it was my great honor to celebrate the opening of two extraordinary museums-the mississippi state history museum &amp; the mississippi civil rights museum. we pay solemn tribute to our heroes of the past &amp; dedicate ourselves to building a future of freedom, equality, justice &amp; peace. https://t.co/5akgvpv8aa\n",
      "\n",
      "   it was my great honor to celebrate the opening of two extraordinary museums-the mississippi state history museum &amp; the mississippi civil rights museum. we pay solemn tribute to our heroes of the past &amp; dedicate ourselves to building a future of freedom, equality, justice &amp; peace. https://t.co/5akgvpv8aa\n",
      "\n",
      "   melania, our great and very hard working first lady, who truly loves what she is doing, always thought that “if you run, you will win.” she would tell everyone that, “no doubt, he will win.” i also felt i would win (or i would not have run) - and country is doing great!\n",
      "\n",
      "   melania, our great and very hard working first lady, who truly loves what she is doing, always thought that “if you run, you will win.” she would tell everyone that, “no doubt, he will win.” i also felt i would win (or i would not have run) - and country is doing great!\n",
      "\n",
      "   throughout my travels, i've had the pleasure of sharing the good news from america. i've had the honor of sharing our vision for a free &amp; open indo-pacific -- a place where sovereign &amp; independent nations, w/diverse cultures &amp; many different dreams, can all prosper side-by-side. https://t.co/qbocy3u7yv\n"
     ]
    }
   ],
   "source": [
    "### BEGIN SOLUTION\n",
    "\n",
    "print('Most positive tweets:')\n",
    "for t in df_trump.sort_values('polarity', ascending=False).head()['text']:\n",
    "    print('\\n  ', t)\n",
    "    \n",
    "### END SOLUTION"
   ]
  },
  {
   "cell_type": "markdown",
   "metadata": {},
   "source": [
    "# Task 4.7\n",
    "\n",
    "Plot the distribution of tweet sentiments broken down by whether the text of the tweet contains nyt or fox. Then in the box below comment on what we observe?"
   ]
  },
  {
   "cell_type": "code",
   "execution_count": 42,
   "metadata": {},
   "outputs": [],
   "source": [
    "nyt = df_trump[df_trump['no_punc'].str.contains(\"nyt\", na=True)]['polarity'].to_frame()\n",
    "fox = df_trump[df_trump['no_punc'].str.contains(\"fox\", na=True)]['polarity'].to_frame()"
   ]
  },
  {
   "cell_type": "code",
   "execution_count": 43,
   "metadata": {
    "scrolled": false
   },
   "outputs": [
    {
     "data": {
      "image/png": "[encoded data removed]",
      "text/plain": [
       "<Figure size 864x576 with 1 Axes>"
      ]
     },
     "metadata": {
      "needs_background": "light"
     },
     "output_type": "display_data"
    }
   ],
   "source": [
    "plt.figure(figsize=(12,8))\n",
    "\n",
    "ax = sns.distplot(nyt, hist=True, kde_kws={\"color\": \"green\", \"lw\": 3, \"label\": \"nyt\"})\n",
    "ax1 = sns.distplot(fox, hist=True, kde_kws={\"color\": \"orange\", \"lw\": 3, \"label\": \"fox\"},)\n",
    "ax.set_xlabel(\"Polarity\")\n",
    "ax.set_ylabel(\"Fraction\")\n",
    "ax.set_title('nyt vs fox')\n",
    "plt.show()"
   ]
  },
  {
   "cell_type": "markdown",
   "metadata": {},
   "source": [
    "##### Comment on what you observe:\n",
    "\n",
    "It seems that the tweets on fox give more positive entiment than tweets on nyt."
   ]
  },
  {
   "cell_type": "markdown",
   "metadata": {},
   "source": [
    "# PART 5 - Principal Component Analysis (PCA) and Twitter\n",
    "\n",
    "A look at the top words used and the sentiments expressed in Trump tweets indicates that, some words are used with others almost all the time. A notable example is the slogan like Make America Great Again. As such, it may be beneficial to look at groups of words rather than individual words. For that, we will look at an approach applying a Principal Component Analysis.\n",
    "The PCA\n",
    "\n",
    "The Principal Component Analysis, or PCA, is a tool generally used to identify patterns and to reduce the number of variables you have to consider in your analysis. For example, if you have data with 200 columns, it may be that a significant amount of the variance in your data can be explained by just 100 principal components. In the PCA, the first component is chosen in such a way that has the largest variance, subsequent components are orthogonal and continue covering as much variance as possible. In this way, the PCA samples as much of the variability in the data set with the first few components. Mathematically, each component is a linear combination of all the input parameters times coefficients specific for that component. These coefficients, or loading factors, are constrained such that the sum of the squares of them are equal to 1. As such, the loading factors serve as weights describing how strongly certain parameters contribute to the specific principal component. Parameters with large values of positive or negative loading factors are correlated with each other, which can serve to identify trends in your data.\n",
    "\n",
    "# Task 5.1 Cleaning up the Data\n",
    "\n",
    "Using NLTK (Natural Language Toolkit) package for language processing and other python libraries, parse the json file to deal with inflected words, such as plurals, and removed stop words like common English words (the, and, it, etc) and certain political terms (the candidates names, for example). You can start with the top 50 words, but full analysis may require large number of words.\n",
    "Create a document-frequecy (df) matrix with 5000 rows and 50 columns where each column is a particular word (feature) and each row is a tweet (observation). The values of the matrix is how often the word appears. Apply the techniques we learned to reduce the weight of most common words (if necessary). Since this is a sparse matrix, you can use the sparse martix libraries to make things a bit more efficient (we can also use a regular numpy arrays to store these things since the dimensions are not too large). Lecture 6.1 captures some sparse matrix routines you can use.\n",
    "Print the first 10 rows of the df to show the matrix you created"
   ]
  },
  {
   "cell_type": "code",
   "execution_count": 44,
   "metadata": {},
   "outputs": [
    {
     "name": "stderr",
     "output_type": "stream",
     "text": [
      "[nltk_data] Downloading package stopwords to /home/yash/nltk_data...\n",
      "[nltk_data]   Package stopwords is already up-to-date!\n",
      "[nltk_data] Downloading package punkt to /home/yash/nltk_data...\n",
      "[nltk_data]   Package punkt is already up-to-date!\n"
     ]
    }
   ],
   "source": [
    "from collections import Counter\n",
    "import nltk\n",
    "nltk.download('stopwords')\n",
    "nltk.download('punkt')\n",
    "\n",
    "from nltk.tokenize import sent_tokenize, word_tokenize\n",
    "from nltk.corpus import stopwords\n",
    "import enchant\n",
    "\n",
    "df = tidy_format.reset_index()['word'].to_frame()\n",
    "\n",
    "# Remove stop words\n",
    "stopWords = set(stopwords.words('english'))\n",
    "df = df[~df['word'].isin(stopWords)]\n",
    "\n",
    "\n",
    "# Remove numbers\n",
    "df = df[~(df['word'].str.isnumeric())]\n",
    "\n",
    "# Remove word with length smaller than 3\n",
    "df = df[(df['word'].str.len() > 2)]\n",
    "\n",
    "# print(df[df['word'] == 'america'])\n",
    "\n",
    "# Remove non-English words\n",
    "word_list = df['word'].values.tolist()\n",
    "# print(word_list)\n",
    "d = enchant.Dict(\"en_US\")\n",
    "a = [item for item in word_list if (d.check(item) or d.check(item.capitalize()))]\n",
    "\n",
    "# print(d.check('America'))\n",
    "\n",
    "# Sort words by their frequencies, top 50 words\n",
    "# Get top 50 words and their count (top50, top50_keys)\n",
    "top50 = Counter(a).most_common(50)\n",
    "# print(top50)\n",
    "top50_keys = [letter for letter, count in top50]\n",
    "\n",
    "\n",
    "df = tidy_format[tidy_format['word'].isin(top50_keys)]\n"
   ]
  },
  {
   "cell_type": "code",
   "execution_count": 45,
   "metadata": {},
   "outputs": [
    {
     "name": "stdout",
     "output_type": "stream",
     "text": [
      "Here is the first 10 rows of the sparse matrix:\n",
      "***Make sure not to modify the 'top50_keys' and 'Data', ohterwise the indice will be messed up***\n",
      "\n",
      "[[0. 0. 0. 1. 1. 1. 0. 0. 0. 0. 0. 0. 0. 0. 0. 0. 0. 0. 0. 0. 0. 0. 0. 0.\n",
      "  0. 1. 0. 0. 0. 0. 0. 0. 0. 0. 0. 0. 0. 0. 0. 0. 0. 0. 0. 0. 0. 0. 0. 0.\n",
      "  0. 0.]\n",
      " [1. 0. 1. 1. 0. 0. 0. 0. 0. 0. 0. 0. 0. 0. 0. 0. 0. 0. 0. 0. 0. 0. 0. 1.\n",
      "  0. 0. 0. 0. 0. 0. 0. 0. 0. 0. 0. 0. 0. 0. 0. 0. 0. 0. 0. 0. 0. 0. 0. 0.\n",
      "  0. 0.]\n",
      " [0. 0. 0. 0. 0. 0. 0. 1. 0. 0. 0. 0. 0. 0. 1. 1. 0. 0. 0. 0. 0. 0. 0. 0.\n",
      "  0. 0. 0. 0. 1. 0. 0. 0. 0. 0. 0. 0. 0. 0. 0. 0. 0. 0. 0. 0. 0. 0. 0. 0.\n",
      "  0. 0.]\n",
      " [0. 0. 0. 0. 0. 0. 0. 1. 0. 0. 0. 0. 0. 0. 0. 0. 0. 0. 0. 0. 0. 0. 0. 0.\n",
      "  0. 0. 0. 0. 0. 0. 0. 0. 0. 0. 0. 0. 0. 0. 0. 0. 0. 0. 0. 0. 0. 0. 0. 0.\n",
      "  0. 0.]\n",
      " [0. 0. 1. 0. 0. 0. 0. 0. 0. 0. 1. 0. 0. 0. 0. 0. 0. 1. 0. 0. 0. 0. 0. 0.\n",
      "  0. 0. 0. 1. 0. 0. 0. 0. 0. 0. 0. 0. 0. 0. 0. 0. 0. 0. 0. 0. 0. 0. 0. 0.\n",
      "  0. 0.]\n",
      " [0. 0. 0. 0. 0. 0. 1. 0. 0. 0. 0. 0. 0. 0. 0. 0. 0. 0. 0. 0. 0. 0. 0. 0.\n",
      "  0. 0. 0. 0. 0. 0. 0. 0. 0. 0. 0. 0. 0. 0. 0. 0. 0. 0. 0. 0. 0. 0. 0. 0.\n",
      "  0. 0.]\n",
      " [0. 0. 0. 0. 0. 0. 0. 0. 0. 0. 1. 0. 0. 0. 0. 0. 0. 1. 0. 0. 0. 0. 0. 0.\n",
      "  1. 0. 1. 0. 0. 0. 0. 0. 0. 0. 0. 0. 0. 0. 0. 0. 0. 0. 0. 0. 0. 0. 0. 0.\n",
      "  0. 0.]\n",
      " [0. 0. 0. 0. 0. 0. 0. 0. 0. 0. 0. 0. 0. 1. 0. 0. 0. 0. 0. 0. 0. 0. 0. 0.\n",
      "  0. 0. 0. 0. 0. 0. 0. 0. 0. 0. 0. 0. 0. 0. 0. 0. 0. 0. 0. 0. 0. 0. 0. 0.\n",
      "  0. 0.]\n",
      " [0. 1. 0. 0. 0. 0. 0. 0. 0. 0. 0. 0. 0. 0. 1. 0. 0. 0. 0. 0. 0. 0. 0. 0.\n",
      "  0. 0. 0. 0. 0. 0. 0. 0. 0. 1. 0. 0. 0. 0. 0. 0. 0. 0. 0. 0. 0. 0. 1. 0.\n",
      "  0. 0.]\n",
      " [1. 0. 0. 0. 0. 0. 0. 0. 0. 0. 0. 0. 0. 0. 0. 0. 0. 0. 0. 0. 0. 0. 0. 0.\n",
      "  0. 0. 0. 0. 0. 0. 0. 0. 0. 0. 0. 0. 0. 0. 0. 0. 1. 0. 0. 0. 0. 0. 0. 0.\n",
      "  0. 0.]]\n"
     ]
    }
   ],
   "source": [
    "# Only pick the first 5000 tweets with the key words found\n",
    "id_of_tweets_with_keywords = list(set(list(df.index)))[:5000]\n",
    "\n",
    "Data = df_trump.loc[ id_of_tweets_with_keywords , 'text' ]\n",
    "\n",
    "width = 50 # len(top_50_keys)\n",
    "height = 5000\n",
    "result = np.zeros((height, width))\n",
    "\n",
    "\n",
    "# TODO： change top 50 keys to Dataframe and merge it with Tidy format Dataframe\n",
    "# Using inner-join, group by ID, find count using .size. \n",
    "# (Then merge with Dataframe underscore \"trump\")\n",
    "\n",
    "def find_freq(full_tweets):\n",
    "    t = re.sub(regex,' ', full_tweets).split()\n",
    "    word_dict = Counter(t)\n",
    "    key_count = np.zeros(50)\n",
    "    for i in range(50):\n",
    "        key_count[i] = word_dict[top50_keys[i]]\n",
    "    return key_count\n",
    "\n",
    "# Loop through the matrix and sub the 1x50 array into this matrix\n",
    "for i in range(height):\n",
    "    result[i,:]= find_freq(Data.iloc[i])\n",
    "\n",
    "print(\"Here is the first 10 rows of the sparse matrix:\")\n",
    "print(\"***Make sure not to modify the 'top50_keys' and 'Data', ohterwise the indice will be messed up***\\n\")\n",
    "print(result[:10])\n"
   ]
  },
  {
   "cell_type": "markdown",
   "metadata": {},
   "source": [
    "# Task 5.2 Find the PCA's\n",
    "\n",
    "Write the code to find the first 50 PCA's for the document-frequency matrix. Pass the document-term-matrix to scikit-learn’s (https://scikit-learn.org/stable/modules/decomposition.html#decompositions) PCA method to obtain the components and loading factors. You can use upto 80% of the PC's to capture as much variation as possible.\n"
   ]
  },
  {
   "cell_type": "code",
   "execution_count": 46,
   "metadata": {},
   "outputs": [
    {
     "name": "stdout",
     "output_type": "stream",
     "text": [
      "['great', 'amp', 'thank', 'people', 'trump', 'president', 'america', 'country', 'big', 'hillary', 'news', 'get', 'today', 'new', 'many', 'time', 'make', 'fake', 'would', 'clinton', 'democrats', 'border', 'vote', 'much', 'never', 'american', 'one', 'media', 'back', 'good', 'going', 'want', 'jobs', 'years', 'must', 'crooked', 'tax', 'bad', 'like', 'even', 'job', 'wall', 'win', 'state', 'day', 'states', 'election', 'united', 'first', 'security']\n"
     ]
    }
   ],
   "source": [
    "print(top50_keys)"
   ]
  },
  {
   "cell_type": "code",
   "execution_count": 106,
   "metadata": {},
   "outputs": [],
   "source": [
    "from sklearn import decomposition\n",
    "from sklearn import datasets\n",
    "from sklearn.preprocessing import StandardScaler\n",
    "from sklearn import preprocessing\n",
    "\n",
    "pca = decomposition.PCA(n_components=30)\n",
    "\n",
    "mean = result.mean()\n",
    "x_std = StandardScaler().fit_transform(result.T - mean)\n",
    "x_std = pca.fit_transform(x_std)\n",
    "\n",
    "# norm = x_std.max() - x_std.min()\n",
    "# mean = x_std.mean()\n",
    "# x_std = (x_std- mean)/norm\n",
    "# normalized_X = preprocessing.normalize(x_std)\n",
    "# print(norm, mean)"
   ]
  },
  {
   "cell_type": "code",
   "execution_count": 107,
   "metadata": {},
   "outputs": [],
   "source": [
    "# # Check this out: (Not used, leave it here fore now)\n",
    "# # https://stackoverflow.com/questions/33603787/performing-pca-on-large-sparse-matrix-by-using-sklearn\n",
    "# # https://scikit-learn.org/stable/modules/generated/sklearn.decomposition.SparsePCA.html\n",
    "# from sklearn.decomposition import TruncatedSVD\n",
    "# from scipy import sparse\n",
    "# result = sparse.csr_matrix(result)\n",
    "# clf = TruncatedSVD(50)\n",
    "# Xpca = clf.fit_transform(X)\n",
    "# clf.explained_variance_ratio_.sum()"
   ]
  },
  {
   "cell_type": "markdown",
   "metadata": {},
   "source": [
    "# Task 5.3 Examine the PCA\n",
    "\n",
    "We can examine the PCA results to look at the heatmap. Make a Bokeh grid plot which shows the various principal component along the x-axis and the individual words along the y-axes. Each grid box should be color-coded based on the sign of the loading factor and how large the square of that value is. Although optional, make the plot so that you can hover over each box to the see the loading factor value for that word-component pair. Looking at it vertically, you can see which words constitute your principal components. Looking at it horizontally, you can see how individual terms are shared between components. "
   ]
  },
  {
   "cell_type": "code",
   "execution_count": 108,
   "metadata": {},
   "outputs": [
    {
     "data": {
      "image/png": "[encoded data removed]",
      "text/plain": [
       "<Figure size 864x864 with 2 Axes>"
      ]
     },
     "metadata": {},
     "output_type": "display_data"
    }
   ],
   "source": [
    "\n",
    "# Make the x-axis labels\n",
    "pca_list = []\n",
    "for i in range(1,51):\n",
    "    pca_list.append('pca-'+str(i))\n",
    "\n",
    "plt.figure(figsize=(12,12))\n",
    "\n",
    "# Did not really normalize the graph because the results will not change anyway\n",
    "cmap = sns.diverging_palette(220, 10, as_cmap=True)\n",
    "sns.set(style=\"white\")\n",
    "sns.heatmap(x_std, cmap=cmap, yticklabels = top50_keys, xticklabels = pca_list, center=0)\n",
    "plt.show()"
   ]
  },
  {
   "cell_type": "markdown",
   "metadata": {},
   "source": [
    "# Task 5.4 PCA Compare\n",
    "We can determine how many words and how many components are needed to do a good visualization. Plot PC1 and PC2 in a 2D plot. The results should be similar to following scatter plot (w/o Hillary Clinton). This plot shows PC4 and PC3 for a similar data set analysis. \n",
    "\n",
    "This is a scatter plot of the values of the components, but with arrows indicating some of the prominent terms as indicated by their loading factors. The values of the loading factors are used to determine the length and direction of these arrows and as such they serve as a way of expressing direction. That is, tweets which use these terms will be moved along the length of those arrows. Shown are the most important parameters."
   ]
  },
  {
   "cell_type": "code",
   "execution_count": 109,
   "metadata": {},
   "outputs": [
    {
     "data": {
      "text/plain": [
       "<seaborn.axisgrid.JointGrid at 0x7f470a85c470>"
      ]
     },
     "execution_count": 109,
     "metadata": {},
     "output_type": "execute_result"
    },
    {
     "data": {
      "image/png": "[encoded data removed]",
      "text/plain": [
       "<Figure size 432x432 with 3 Axes>"
      ]
     },
     "metadata": {},
     "output_type": "display_data"
    }
   ],
   "source": [
    "pca1 = (x_std[:,0])\n",
    "pca2 = (x_std[:,1])\n",
    "sns.jointplot(pca1, pca2)\n"
   ]
  },
  {
   "cell_type": "markdown",
   "metadata": {},
   "source": [
    "## PART 6 - Twitter Engagement\n",
    "\n",
    "In this problem, we'll explore which words led to a greater average number of retweets. For example, at the time of this writing, Donald Trump has two tweets that contain the word 'oakland' (tweets 932570628451954688 and 1016609920031117312) with 36757 and 10286 retweets respectively, for an average of 23,521.5.\n",
    "\n",
    "\n",
    "Your `top_20` table should have this format:\n",
    "\n",
    "<table border=\"1\" class=\"dataframe\">\n",
    "  <thead>\n",
    "    <tr style=\"text-align: right;\">\n",
    "      <th></th>\n",
    "      <th>retweet_count</th>\n",
    "    </tr>\n",
    "    <tr>\n",
    "      <th>word</th>\n",
    "      <th></th>\n",
    "    </tr>\n",
    "  </thead>\n",
    "  <tbody>\n",
    "    <tr>\n",
    "      <th>jong</th>\n",
    "      <td>40675.666667</td>\n",
    "    </tr>\n",
    "    <tr>\n",
    "      <th>try</th>\n",
    "      <td>33937.800000</td>\n",
    "    </tr>\n",
    "    <tr>\n",
    "      <th>kim</th>\n",
    "      <td>32849.595745</td>\n",
    "    </tr>\n",
    "    <tr>\n",
    "      <th>un</th>\n",
    "      <td>32741.731707</td>\n",
    "    </tr>\n",
    "    <tr>\n",
    "      <th>maybe</th>\n",
    "      <td>30473.192308</td>\n",
    "    </tr>\n",
    "  </tbody>\n",
    "</table>"
   ]
  },
  {
   "cell_type": "markdown",
   "metadata": {},
   "source": []
  },
  {
   "cell_type": "markdown",
   "metadata": {},
   "source": [
    "# Task 6.1\n",
    "Find the top 20 most retweeted words. Include only words that appear in at least 25 tweets. As usual, try to do this without any for loops. You can string together ~7 pandas commands and get everything done on one line."
   ]
  },
  {
   "cell_type": "code",
   "execution_count": 143,
   "metadata": {},
   "outputs": [
    {
     "ename": "KeyError",
     "evalue": "'kim'",
     "output_type": "error",
     "traceback": [
      "\u001b[0;31m---------------------------------------------------------------------------\u001b[0m",
      "\u001b[0;31mKeyError\u001b[0m                                  Traceback (most recent call last)",
      "\u001b[0;32m/usr/local/lib64/python3.6/site-packages/pandas/core/indexes/base.py\u001b[0m in \u001b[0;36mget_loc\u001b[0;34m(self, key, method, tolerance)\u001b[0m\n\u001b[1;32m   2655\u001b[0m             \u001b[0;32mtry\u001b[0m\u001b[0;34m:\u001b[0m\u001b[0;34m\u001b[0m\u001b[0;34m\u001b[0m\u001b[0m\n\u001b[0;32m-> 2656\u001b[0;31m                 \u001b[0;32mreturn\u001b[0m \u001b[0mself\u001b[0m\u001b[0;34m.\u001b[0m\u001b[0m_engine\u001b[0m\u001b[0;34m.\u001b[0m\u001b[0mget_loc\u001b[0m\u001b[0;34m(\u001b[0m\u001b[0mkey\u001b[0m\u001b[0;34m)\u001b[0m\u001b[0;34m\u001b[0m\u001b[0;34m\u001b[0m\u001b[0m\n\u001b[0m\u001b[1;32m   2657\u001b[0m             \u001b[0;32mexcept\u001b[0m \u001b[0mKeyError\u001b[0m\u001b[0;34m:\u001b[0m\u001b[0;34m\u001b[0m\u001b[0;34m\u001b[0m\u001b[0m\n",
      "\u001b[0;32mpandas/_libs/index.pyx\u001b[0m in \u001b[0;36mpandas._libs.index.IndexEngine.get_loc\u001b[0;34m()\u001b[0m\n",
      "\u001b[0;32mpandas/_libs/index.pyx\u001b[0m in \u001b[0;36mpandas._libs.index.IndexEngine.get_loc\u001b[0;34m()\u001b[0m\n",
      "\u001b[0;32mpandas/_libs/hashtable_class_helper.pxi\u001b[0m in \u001b[0;36mpandas._libs.hashtable.PyObjectHashTable.get_item\u001b[0;34m()\u001b[0m\n",
      "\u001b[0;32mpandas/_libs/hashtable_class_helper.pxi\u001b[0m in \u001b[0;36mpandas._libs.hashtable.PyObjectHashTable.get_item\u001b[0;34m()\u001b[0m\n",
      "\u001b[0;31mKeyError\u001b[0m: 'kim'",
      "\nDuring handling of the above exception, another exception occurred:\n",
      "\u001b[0;31mKeyError\u001b[0m                                  Traceback (most recent call last)",
      "\u001b[0;32m<ipython-input-143-4a0b30649ab1>\u001b[0m in \u001b[0;36m<module>\u001b[0;34m\u001b[0m\n\u001b[1;32m      5\u001b[0m \u001b[0mt2\u001b[0m \u001b[0;34m=\u001b[0m \u001b[0mtemp\u001b[0m\u001b[0;34m.\u001b[0m\u001b[0mgroupby\u001b[0m\u001b[0;34m(\u001b[0m\u001b[0;34m'word'\u001b[0m\u001b[0;34m)\u001b[0m\u001b[0;34m.\u001b[0m\u001b[0mmean\u001b[0m\u001b[0;34m(\u001b[0m\u001b[0;34m)\u001b[0m\u001b[0;34m\u001b[0m\u001b[0;34m\u001b[0m\u001b[0m\n\u001b[1;32m      6\u001b[0m \u001b[0mt3\u001b[0m \u001b[0;34m=\u001b[0m  \u001b[0mt2\u001b[0m\u001b[0;34m.\u001b[0m\u001b[0msort_values\u001b[0m\u001b[0;34m(\u001b[0m\u001b[0mby\u001b[0m\u001b[0;34m=\u001b[0m\u001b[0;34m[\u001b[0m\u001b[0;34m'retweet_count'\u001b[0m\u001b[0;34m]\u001b[0m\u001b[0;34m,\u001b[0m \u001b[0mascending\u001b[0m\u001b[0;34m=\u001b[0m\u001b[0;32mFalse\u001b[0m\u001b[0;34m)\u001b[0m\u001b[0;34m\u001b[0m\u001b[0;34m\u001b[0m\u001b[0m\n\u001b[0;32m----> 7\u001b[0;31m \u001b[0mt3\u001b[0m\u001b[0;34m[\u001b[0m\u001b[0;34m'kim'\u001b[0m\u001b[0;34m]\u001b[0m\u001b[0;34m\u001b[0m\u001b[0;34m\u001b[0m\u001b[0m\n\u001b[0m",
      "\u001b[0;32m/usr/local/lib64/python3.6/site-packages/pandas/core/frame.py\u001b[0m in \u001b[0;36m__getitem__\u001b[0;34m(self, key)\u001b[0m\n\u001b[1;32m   2925\u001b[0m             \u001b[0;32mif\u001b[0m \u001b[0mself\u001b[0m\u001b[0;34m.\u001b[0m\u001b[0mcolumns\u001b[0m\u001b[0;34m.\u001b[0m\u001b[0mnlevels\u001b[0m \u001b[0;34m>\u001b[0m \u001b[0;36m1\u001b[0m\u001b[0;34m:\u001b[0m\u001b[0;34m\u001b[0m\u001b[0;34m\u001b[0m\u001b[0m\n\u001b[1;32m   2926\u001b[0m                 \u001b[0;32mreturn\u001b[0m \u001b[0mself\u001b[0m\u001b[0;34m.\u001b[0m\u001b[0m_getitem_multilevel\u001b[0m\u001b[0;34m(\u001b[0m\u001b[0mkey\u001b[0m\u001b[0;34m)\u001b[0m\u001b[0;34m\u001b[0m\u001b[0;34m\u001b[0m\u001b[0m\n\u001b[0;32m-> 2927\u001b[0;31m             \u001b[0mindexer\u001b[0m \u001b[0;34m=\u001b[0m \u001b[0mself\u001b[0m\u001b[0;34m.\u001b[0m\u001b[0mcolumns\u001b[0m\u001b[0;34m.\u001b[0m\u001b[0mget_loc\u001b[0m\u001b[0;34m(\u001b[0m\u001b[0mkey\u001b[0m\u001b[0;34m)\u001b[0m\u001b[0;34m\u001b[0m\u001b[0;34m\u001b[0m\u001b[0m\n\u001b[0m\u001b[1;32m   2928\u001b[0m             \u001b[0;32mif\u001b[0m \u001b[0mis_integer\u001b[0m\u001b[0;34m(\u001b[0m\u001b[0mindexer\u001b[0m\u001b[0;34m)\u001b[0m\u001b[0;34m:\u001b[0m\u001b[0;34m\u001b[0m\u001b[0;34m\u001b[0m\u001b[0m\n\u001b[1;32m   2929\u001b[0m                 \u001b[0mindexer\u001b[0m \u001b[0;34m=\u001b[0m \u001b[0;34m[\u001b[0m\u001b[0mindexer\u001b[0m\u001b[0;34m]\u001b[0m\u001b[0;34m\u001b[0m\u001b[0;34m\u001b[0m\u001b[0m\n",
      "\u001b[0;32m/usr/local/lib64/python3.6/site-packages/pandas/core/indexes/base.py\u001b[0m in \u001b[0;36mget_loc\u001b[0;34m(self, key, method, tolerance)\u001b[0m\n\u001b[1;32m   2656\u001b[0m                 \u001b[0;32mreturn\u001b[0m \u001b[0mself\u001b[0m\u001b[0;34m.\u001b[0m\u001b[0m_engine\u001b[0m\u001b[0;34m.\u001b[0m\u001b[0mget_loc\u001b[0m\u001b[0;34m(\u001b[0m\u001b[0mkey\u001b[0m\u001b[0;34m)\u001b[0m\u001b[0;34m\u001b[0m\u001b[0;34m\u001b[0m\u001b[0m\n\u001b[1;32m   2657\u001b[0m             \u001b[0;32mexcept\u001b[0m \u001b[0mKeyError\u001b[0m\u001b[0;34m:\u001b[0m\u001b[0;34m\u001b[0m\u001b[0;34m\u001b[0m\u001b[0m\n\u001b[0;32m-> 2658\u001b[0;31m                 \u001b[0;32mreturn\u001b[0m \u001b[0mself\u001b[0m\u001b[0;34m.\u001b[0m\u001b[0m_engine\u001b[0m\u001b[0;34m.\u001b[0m\u001b[0mget_loc\u001b[0m\u001b[0;34m(\u001b[0m\u001b[0mself\u001b[0m\u001b[0;34m.\u001b[0m\u001b[0m_maybe_cast_indexer\u001b[0m\u001b[0;34m(\u001b[0m\u001b[0mkey\u001b[0m\u001b[0;34m)\u001b[0m\u001b[0;34m)\u001b[0m\u001b[0;34m\u001b[0m\u001b[0;34m\u001b[0m\u001b[0m\n\u001b[0m\u001b[1;32m   2659\u001b[0m         \u001b[0mindexer\u001b[0m \u001b[0;34m=\u001b[0m \u001b[0mself\u001b[0m\u001b[0;34m.\u001b[0m\u001b[0mget_indexer\u001b[0m\u001b[0;34m(\u001b[0m\u001b[0;34m[\u001b[0m\u001b[0mkey\u001b[0m\u001b[0;34m]\u001b[0m\u001b[0;34m,\u001b[0m \u001b[0mmethod\u001b[0m\u001b[0;34m=\u001b[0m\u001b[0mmethod\u001b[0m\u001b[0;34m,\u001b[0m \u001b[0mtolerance\u001b[0m\u001b[0;34m=\u001b[0m\u001b[0mtolerance\u001b[0m\u001b[0;34m)\u001b[0m\u001b[0;34m\u001b[0m\u001b[0;34m\u001b[0m\u001b[0m\n\u001b[1;32m   2660\u001b[0m         \u001b[0;32mif\u001b[0m \u001b[0mindexer\u001b[0m\u001b[0;34m.\u001b[0m\u001b[0mndim\u001b[0m \u001b[0;34m>\u001b[0m \u001b[0;36m1\u001b[0m \u001b[0;32mor\u001b[0m \u001b[0mindexer\u001b[0m\u001b[0;34m.\u001b[0m\u001b[0msize\u001b[0m \u001b[0;34m>\u001b[0m \u001b[0;36m1\u001b[0m\u001b[0;34m:\u001b[0m\u001b[0;34m\u001b[0m\u001b[0;34m\u001b[0m\u001b[0m\n",
      "\u001b[0;32mpandas/_libs/index.pyx\u001b[0m in \u001b[0;36mpandas._libs.index.IndexEngine.get_loc\u001b[0;34m()\u001b[0m\n",
      "\u001b[0;32mpandas/_libs/index.pyx\u001b[0m in \u001b[0;36mpandas._libs.index.IndexEngine.get_loc\u001b[0;34m()\u001b[0m\n",
      "\u001b[0;32mpandas/_libs/hashtable_class_helper.pxi\u001b[0m in \u001b[0;36mpandas._libs.hashtable.PyObjectHashTable.get_item\u001b[0;34m()\u001b[0m\n",
      "\u001b[0;32mpandas/_libs/hashtable_class_helper.pxi\u001b[0m in \u001b[0;36mpandas._libs.hashtable.PyObjectHashTable.get_item\u001b[0;34m()\u001b[0m\n",
      "\u001b[0;31mKeyError\u001b[0m: 'kim'"
     ]
    }
   ],
   "source": [
    "t = df_trump[['retweet_count']]\n",
    "t1 = tidy_format[['word']]\n",
    "temp = t.join(t1.drop_duplicates(), how='left')\n",
    "# temp\n",
    "t2 = temp.groupby('word').mean()\n",
    "t3 =  t2.sort_values(by=['retweet_count'], ascending=False)\n",
    "t3['kim']"
   ]
  },
  {
   "cell_type": "code",
   "execution_count": null,
   "metadata": {},
   "outputs": [],
   "source": []
  },
  {
   "cell_type": "code",
   "execution_count": null,
   "metadata": {},
   "outputs": [],
   "source": []
  }
 ],
 "metadata": {
  "kernelspec": {
   "display_name": "Python 3",
   "language": "python",
   "name": "python3"
  },
  "language_info": {
   "codemirror_mode": {
    "name": "ipython",
    "version": 3
   },
   "file_extension": ".py",
   "mimetype": "text/x-python",
   "name": "python",
   "nbconvert_exporter": "python",
   "pygments_lexer": "ipython3",
   "version": "3.6.8"
  }
 },
 "nbformat": 4,
 "nbformat_minor": 2
}
